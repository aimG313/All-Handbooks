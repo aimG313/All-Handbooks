{
 "cells": [
  {
   "cell_type": "markdown",
   "metadata": {},
   "source": [
    "# Pandas Handbook for Ai\n",
    "### *Ashraful Islam Mahi*\n",
    "*Full Stack Python Developer | ML & Robotics Enthusiast*\n",
    "\n",
    "![Pandas Logo](pandas.png)\n",
    "\n",
    "---\n",
    "\n"
   ]
  },
  {
   "cell_type": "markdown",
   "metadata": {},
   "source": [
    "### What is Pandas?\n",
    "- Pandas is a powerful python library for data manipulation and analysis. It provides an easy to use data structure which are series & dataframes.\n",
    "\n",
    "### Pandas Data Structures:\n",
    "1. Series: 1D labeled array, capable of holding data of any type.\n",
    "2. Datframe: 2D labeled data structure like table."
   ]
  },
  {
   "cell_type": "markdown",
   "metadata": {},
   "source": [
    "0. Installing pandas"
   ]
  },
  {
   "cell_type": "code",
   "execution_count": null,
   "metadata": {},
   "outputs": [],
   "source": [
    "%pip install pandas"
   ]
  },
  {
   "cell_type": "markdown",
   "metadata": {},
   "source": [
    "1. Importing Pandas"
   ]
  },
  {
   "cell_type": "code",
   "execution_count": 104,
   "metadata": {},
   "outputs": [],
   "source": [
    "import pandas as pd"
   ]
  },
  {
   "cell_type": "markdown",
   "metadata": {},
   "source": [
    "2. Creating Series in Pandas"
   ]
  },
  {
   "cell_type": "code",
   "execution_count": 5,
   "metadata": {},
   "outputs": [
    {
     "name": "stdout",
     "output_type": "stream",
     "text": [
      "Series:\n",
      "a    10\n",
      "b    20\n",
      "c    30\n",
      "dtype: int64\n"
     ]
    }
   ],
   "source": [
    "s = pd.Series([10,20,30],index=['a','b','c'])\n",
    "\n",
    "print(f\"Series:\\n{s}\")"
   ]
  },
  {
   "cell_type": "markdown",
   "metadata": {},
   "source": [
    "3. Creating Dataframe in Pandas"
   ]
  },
  {
   "cell_type": "code",
   "execution_count": 8,
   "metadata": {},
   "outputs": [
    {
     "name": "stdout",
     "output_type": "stream",
     "text": [
      "Dataframe:\n",
      "\n",
      "    Name  Age\n",
      "0  Alice   20\n",
      "1    Bob   30\n"
     ]
    }
   ],
   "source": [
    "data = {'Name':['Alice','Bob'],'Age':[20,30]}\n",
    "\n",
    "df = pd.DataFrame(data)\n",
    "print(f\"Dataframe:\\n\\n{df}\")"
   ]
  },
  {
   "cell_type": "markdown",
   "metadata": {},
   "source": [
    "### Data loading Method in Methods in Pandas\n",
    "\n",
    "- Common Data loading Methods:\n",
    "   1. From CSV\n",
    "   2. From Excel\n",
    "   3. From Dictionary"
   ]
  },
  {
   "cell_type": "markdown",
   "metadata": {},
   "source": [
    "1. Data loading from CSV "
   ]
  },
  {
   "cell_type": "markdown",
   "metadata": {},
   "source": [
    "- students.csv :\n",
    "\n",
    "  ![students.csv](students.png)"
   ]
  },
  {
   "cell_type": "code",
   "execution_count": 12,
   "metadata": {},
   "outputs": [
    {
     "name": "stdout",
     "output_type": "stream",
     "text": [
      "Students Info:\n",
      "\n",
      "      Name  Math  Science  English\n",
      "0    Alice    85       90       88\n",
      "1      Bob    75       80       72\n",
      "2  Charlie    95       98       97\n"
     ]
    }
   ],
   "source": [
    "df = pd.read_csv(\"students.csv\")\n",
    "\n",
    "print(f\"Students Info:\\n\\n{df}\")"
   ]
  },
  {
   "cell_type": "markdown",
   "metadata": {},
   "source": [
    "### Data Saving Methods in Pandas\n",
    "- It is similar to loading methods:\n",
    "   1. In CSV \n",
    "   2. In Excel\n",
    "   3. In Dictionary"
   ]
  },
  {
   "cell_type": "markdown",
   "metadata": {},
   "source": [
    "1. Data Saving in Excel"
   ]
  },
  {
   "cell_type": "code",
   "execution_count": null,
   "metadata": {},
   "outputs": [],
   "source": [
    "%pip install openpyxl #mandatory to save data in excel"
   ]
  },
  {
   "cell_type": "code",
   "execution_count": 15,
   "metadata": {},
   "outputs": [],
   "source": [
    "df.to_excel(\"students.xlsx\")"
   ]
  },
  {
   "cell_type": "markdown",
   "metadata": {},
   "source": [
    "- students.xlsx :\n",
    "  \n",
    "![students.xlsx](st_xlsx.png)"
   ]
  },
  {
   "cell_type": "markdown",
   "metadata": {},
   "source": [
    "### Dataframe Operations"
   ]
  },
  {
   "cell_type": "markdown",
   "metadata": {},
   "source": [
    "1. Methods of Viewing  Data"
   ]
  },
  {
   "cell_type": "markdown",
   "metadata": {},
   "source": [
    "1. a) View the 1st row:"
   ]
  },
  {
   "cell_type": "code",
   "execution_count": 127,
   "metadata": {},
   "outputs": [
    {
     "name": "stdout",
     "output_type": "stream",
     "text": [
      "1st row:\n",
      "\n",
      "   Unnamed: 0   Name  Math  Science  English\n",
      "0           0  Alice    85       90       88\n"
     ]
    }
   ],
   "source": [
    "df = pd.read_excel(\"students.xlsx\")\n",
    "\n",
    "print(f\"1st row:\\n\\n{df.head(1)}\") "
   ]
  },
  {
   "cell_type": "markdown",
   "metadata": {},
   "source": [
    "1. b) View the last row:"
   ]
  },
  {
   "cell_type": "code",
   "execution_count": 128,
   "metadata": {},
   "outputs": [
    {
     "name": "stdout",
     "output_type": "stream",
     "text": [
      "   Unnamed: 0     Name  Math  Science  English\n",
      "2           2  Charlie    95       98       97\n"
     ]
    }
   ],
   "source": [
    "df = pd.read_excel(\"students.xlsx\")\n",
    "print(df.tail(1)) "
   ]
  },
  {
   "cell_type": "markdown",
   "metadata": {},
   "source": [
    "1. c) View dataframe info:"
   ]
  },
  {
   "cell_type": "code",
   "execution_count": 129,
   "metadata": {},
   "outputs": [
    {
     "name": "stdout",
     "output_type": "stream",
     "text": [
      "<class 'pandas.core.frame.DataFrame'>\n",
      "RangeIndex: 3 entries, 0 to 2\n",
      "Data columns (total 5 columns):\n",
      " #   Column      Non-Null Count  Dtype \n",
      "---  ------      --------------  ----- \n",
      " 0   Unnamed: 0  3 non-null      int64 \n",
      " 1   Name        3 non-null      object\n",
      " 2   Math        3 non-null      int64 \n",
      " 3   Science     3 non-null      int64 \n",
      " 4   English     3 non-null      int64 \n",
      "dtypes: int64(4), object(1)\n",
      "memory usage: 252.0+ bytes\n",
      "None\n"
     ]
    }
   ],
   "source": [
    "df = pd.read_excel(\"students.xlsx\")\n",
    "print(df.info())"
   ]
  },
  {
   "cell_type": "markdown",
   "metadata": {},
   "source": [
    "1. d) View dataframe description:"
   ]
  },
  {
   "cell_type": "code",
   "execution_count": 130,
   "metadata": {},
   "outputs": [
    {
     "name": "stdout",
     "output_type": "stream",
     "text": [
      "       Unnamed: 0  Math    Science    English\n",
      "count         3.0   3.0   3.000000   3.000000\n",
      "mean          1.0  85.0  89.333333  85.666667\n",
      "std           1.0  10.0   9.018500  12.662280\n",
      "min           0.0  75.0  80.000000  72.000000\n",
      "25%           0.5  80.0  85.000000  80.000000\n",
      "50%           1.0  85.0  90.000000  88.000000\n",
      "75%           1.5  90.0  94.000000  92.500000\n",
      "max           2.0  95.0  98.000000  97.000000\n"
     ]
    }
   ],
   "source": [
    "df = pd.read_excel(\"students.xlsx\")\n",
    "print(df.describe())"
   ]
  },
  {
   "cell_type": "markdown",
   "metadata": {},
   "source": [
    "2. Selecting & Indexing"
   ]
  },
  {
   "cell_type": "code",
   "execution_count": 131,
   "metadata": {},
   "outputs": [
    {
     "data": {
      "text/html": [
       "<div>\n",
       "<style scoped>\n",
       "    .dataframe tbody tr th:only-of-type {\n",
       "        vertical-align: middle;\n",
       "    }\n",
       "\n",
       "    .dataframe tbody tr th {\n",
       "        vertical-align: top;\n",
       "    }\n",
       "\n",
       "    .dataframe thead th {\n",
       "        text-align: right;\n",
       "    }\n",
       "</style>\n",
       "<table border=\"1\" class=\"dataframe\">\n",
       "  <thead>\n",
       "    <tr style=\"text-align: right;\">\n",
       "      <th></th>\n",
       "      <th>Name</th>\n",
       "      <th>Math</th>\n",
       "    </tr>\n",
       "  </thead>\n",
       "  <tbody>\n",
       "    <tr>\n",
       "      <th>0</th>\n",
       "      <td>Alice</td>\n",
       "      <td>85</td>\n",
       "    </tr>\n",
       "    <tr>\n",
       "      <th>1</th>\n",
       "      <td>Bob</td>\n",
       "      <td>75</td>\n",
       "    </tr>\n",
       "    <tr>\n",
       "      <th>2</th>\n",
       "      <td>Charlie</td>\n",
       "      <td>95</td>\n",
       "    </tr>\n",
       "  </tbody>\n",
       "</table>\n",
       "</div>"
      ],
      "text/plain": [
       "      Name  Math\n",
       "0    Alice    85\n",
       "1      Bob    75\n",
       "2  Charlie    95"
      ]
     },
     "execution_count": 131,
     "metadata": {},
     "output_type": "execute_result"
    }
   ],
   "source": [
    "#Show the data from only Name & Math column\n",
    "df[[\"Name\",\"Math\"]]"
   ]
  },
  {
   "cell_type": "markdown",
   "metadata": {},
   "source": [
    "3. Filtering"
   ]
  },
  {
   "cell_type": "code",
   "execution_count": 132,
   "metadata": {},
   "outputs": [
    {
     "data": {
      "text/html": [
       "<div>\n",
       "<style scoped>\n",
       "    .dataframe tbody tr th:only-of-type {\n",
       "        vertical-align: middle;\n",
       "    }\n",
       "\n",
       "    .dataframe tbody tr th {\n",
       "        vertical-align: top;\n",
       "    }\n",
       "\n",
       "    .dataframe thead th {\n",
       "        text-align: right;\n",
       "    }\n",
       "</style>\n",
       "<table border=\"1\" class=\"dataframe\">\n",
       "  <thead>\n",
       "    <tr style=\"text-align: right;\">\n",
       "      <th></th>\n",
       "      <th>Unnamed: 0</th>\n",
       "      <th>Name</th>\n",
       "      <th>Math</th>\n",
       "      <th>Science</th>\n",
       "      <th>English</th>\n",
       "    </tr>\n",
       "  </thead>\n",
       "  <tbody>\n",
       "    <tr>\n",
       "      <th>0</th>\n",
       "      <td>0</td>\n",
       "      <td>Alice</td>\n",
       "      <td>85</td>\n",
       "      <td>90</td>\n",
       "      <td>88</td>\n",
       "    </tr>\n",
       "    <tr>\n",
       "      <th>2</th>\n",
       "      <td>2</td>\n",
       "      <td>Charlie</td>\n",
       "      <td>95</td>\n",
       "      <td>98</td>\n",
       "      <td>97</td>\n",
       "    </tr>\n",
       "  </tbody>\n",
       "</table>\n",
       "</div>"
      ],
      "text/plain": [
       "   Unnamed: 0     Name  Math  Science  English\n",
       "0           0    Alice    85       90       88\n",
       "2           2  Charlie    95       98       97"
      ]
     },
     "execution_count": 132,
     "metadata": {},
     "output_type": "execute_result"
    }
   ],
   "source": [
    "#Condtion: Show the row in which the mark in mathematics is above 80\n",
    "df[df[\"Math\"]>80]"
   ]
  },
  {
   "cell_type": "markdown",
   "metadata": {},
   "source": [
    "4. Selecting by position"
   ]
  },
  {
   "cell_type": "code",
   "execution_count": 133,
   "metadata": {},
   "outputs": [
    {
     "data": {
      "text/plain": [
       "Unnamed: 0        0\n",
       "Name          Alice\n",
       "Math             85\n",
       "Science          90\n",
       "English          88\n",
       "Name: 0, dtype: object"
      ]
     },
     "execution_count": 133,
     "metadata": {},
     "output_type": "execute_result"
    }
   ],
   "source": [
    "df.iloc[0] #1st row by position"
   ]
  },
  {
   "cell_type": "markdown",
   "metadata": {},
   "source": [
    "5. Selecting by label"
   ]
  },
  {
   "cell_type": "code",
   "execution_count": 134,
   "metadata": {},
   "outputs": [
    {
     "data": {
      "text/plain": [
       "0    85\n",
       "1    75\n",
       "2    95\n",
       "Name: Math, dtype: int64"
      ]
     },
     "execution_count": 134,
     "metadata": {},
     "output_type": "execute_result"
    }
   ],
   "source": [
    "df.loc[:,\"Math\"] #showing the column named \"Math\""
   ]
  },
  {
   "cell_type": "markdown",
   "metadata": {},
   "source": [
    "### Exercise-1: Data Explore"
   ]
  },
  {
   "cell_type": "markdown",
   "metadata": {},
   "source": [
    "1. Get dataset from online:"
   ]
  },
  {
   "cell_type": "code",
   "execution_count": 5,
   "metadata": {},
   "outputs": [],
   "source": [
    "df = pd.read_csv(\"https://raw.githubusercontent.com/mwaskom/seaborn-data/master/iris.csv\")"
   ]
  },
  {
   "cell_type": "markdown",
   "metadata": {},
   "source": [
    "2. Print 1st 5 rows:"
   ]
  },
  {
   "cell_type": "code",
   "execution_count": 6,
   "metadata": {},
   "outputs": [
    {
     "name": "stdout",
     "output_type": "stream",
     "text": [
      "1st five rows:    sepal_length  sepal_width  petal_length  petal_width species\n",
      "0           5.1          3.5           1.4          0.2  setosa\n",
      "1           4.9          3.0           1.4          0.2  setosa\n",
      "2           4.7          3.2           1.3          0.2  setosa\n",
      "3           4.6          3.1           1.5          0.2  setosa\n",
      "4           5.0          3.6           1.4          0.2  setosa\n"
     ]
    }
   ],
   "source": [
    "print(f\"1st five rows: {df.head()}\")"
   ]
  },
  {
   "cell_type": "markdown",
   "metadata": {},
   "source": [
    "3. Print last 5 rows:"
   ]
  },
  {
   "cell_type": "code",
   "execution_count": null,
   "metadata": {},
   "outputs": [
    {
     "name": "stdout",
     "output_type": "stream",
     "text": [
      "last five rows:      sepal_length  sepal_width  petal_length  petal_width    species\n",
      "145           6.7          3.0           5.2          2.3  virginica\n",
      "146           6.3          2.5           5.0          1.9  virginica\n",
      "147           6.5          3.0           5.2          2.0  virginica\n",
      "148           6.2          3.4           5.4          2.3  virginica\n",
      "149           5.9          3.0           5.1          1.8  virginica\n"
     ]
    }
   ],
   "source": [
    "print(f\"last five rows: {df.tail()}\")"
   ]
  },
  {
   "cell_type": "markdown",
   "metadata": {},
   "source": [
    "4. Print dataframe info:"
   ]
  },
  {
   "cell_type": "code",
   "execution_count": 9,
   "metadata": {},
   "outputs": [
    {
     "name": "stdout",
     "output_type": "stream",
     "text": [
      "<class 'pandas.core.frame.DataFrame'>\n",
      "RangeIndex: 150 entries, 0 to 149\n",
      "Data columns (total 5 columns):\n",
      " #   Column        Non-Null Count  Dtype  \n",
      "---  ------        --------------  -----  \n",
      " 0   sepal_length  150 non-null    float64\n",
      " 1   sepal_width   150 non-null    float64\n",
      " 2   petal_length  150 non-null    float64\n",
      " 3   petal_width   150 non-null    float64\n",
      " 4   species       150 non-null    object \n",
      "dtypes: float64(4), object(1)\n",
      "memory usage: 6.0+ KB\n"
     ]
    }
   ],
   "source": [
    "df.info()"
   ]
  },
  {
   "cell_type": "markdown",
   "metadata": {},
   "source": [
    "5. Print Dataframe description"
   ]
  },
  {
   "cell_type": "code",
   "execution_count": 10,
   "metadata": {},
   "outputs": [
    {
     "data": {
      "text/html": [
       "<div>\n",
       "<style scoped>\n",
       "    .dataframe tbody tr th:only-of-type {\n",
       "        vertical-align: middle;\n",
       "    }\n",
       "\n",
       "    .dataframe tbody tr th {\n",
       "        vertical-align: top;\n",
       "    }\n",
       "\n",
       "    .dataframe thead th {\n",
       "        text-align: right;\n",
       "    }\n",
       "</style>\n",
       "<table border=\"1\" class=\"dataframe\">\n",
       "  <thead>\n",
       "    <tr style=\"text-align: right;\">\n",
       "      <th></th>\n",
       "      <th>sepal_length</th>\n",
       "      <th>sepal_width</th>\n",
       "      <th>petal_length</th>\n",
       "      <th>petal_width</th>\n",
       "    </tr>\n",
       "  </thead>\n",
       "  <tbody>\n",
       "    <tr>\n",
       "      <th>count</th>\n",
       "      <td>150.000000</td>\n",
       "      <td>150.000000</td>\n",
       "      <td>150.000000</td>\n",
       "      <td>150.000000</td>\n",
       "    </tr>\n",
       "    <tr>\n",
       "      <th>mean</th>\n",
       "      <td>5.843333</td>\n",
       "      <td>3.057333</td>\n",
       "      <td>3.758000</td>\n",
       "      <td>1.199333</td>\n",
       "    </tr>\n",
       "    <tr>\n",
       "      <th>std</th>\n",
       "      <td>0.828066</td>\n",
       "      <td>0.435866</td>\n",
       "      <td>1.765298</td>\n",
       "      <td>0.762238</td>\n",
       "    </tr>\n",
       "    <tr>\n",
       "      <th>min</th>\n",
       "      <td>4.300000</td>\n",
       "      <td>2.000000</td>\n",
       "      <td>1.000000</td>\n",
       "      <td>0.100000</td>\n",
       "    </tr>\n",
       "    <tr>\n",
       "      <th>25%</th>\n",
       "      <td>5.100000</td>\n",
       "      <td>2.800000</td>\n",
       "      <td>1.600000</td>\n",
       "      <td>0.300000</td>\n",
       "    </tr>\n",
       "    <tr>\n",
       "      <th>50%</th>\n",
       "      <td>5.800000</td>\n",
       "      <td>3.000000</td>\n",
       "      <td>4.350000</td>\n",
       "      <td>1.300000</td>\n",
       "    </tr>\n",
       "    <tr>\n",
       "      <th>75%</th>\n",
       "      <td>6.400000</td>\n",
       "      <td>3.300000</td>\n",
       "      <td>5.100000</td>\n",
       "      <td>1.800000</td>\n",
       "    </tr>\n",
       "    <tr>\n",
       "      <th>max</th>\n",
       "      <td>7.900000</td>\n",
       "      <td>4.400000</td>\n",
       "      <td>6.900000</td>\n",
       "      <td>2.500000</td>\n",
       "    </tr>\n",
       "  </tbody>\n",
       "</table>\n",
       "</div>"
      ],
      "text/plain": [
       "       sepal_length  sepal_width  petal_length  petal_width\n",
       "count    150.000000   150.000000    150.000000   150.000000\n",
       "mean       5.843333     3.057333      3.758000     1.199333\n",
       "std        0.828066     0.435866      1.765298     0.762238\n",
       "min        4.300000     2.000000      1.000000     0.100000\n",
       "25%        5.100000     2.800000      1.600000     0.300000\n",
       "50%        5.800000     3.000000      4.350000     1.300000\n",
       "75%        6.400000     3.300000      5.100000     1.800000\n",
       "max        7.900000     4.400000      6.900000     2.500000"
      ]
     },
     "execution_count": 10,
     "metadata": {},
     "output_type": "execute_result"
    }
   ],
   "source": [
    "df.describe()"
   ]
  },
  {
   "cell_type": "markdown",
   "metadata": {},
   "source": [
    "6. Print the column of \"species\" & \"sepal_length\""
   ]
  },
  {
   "cell_type": "code",
   "execution_count": 11,
   "metadata": {},
   "outputs": [
    {
     "data": {
      "text/html": [
       "<div>\n",
       "<style scoped>\n",
       "    .dataframe tbody tr th:only-of-type {\n",
       "        vertical-align: middle;\n",
       "    }\n",
       "\n",
       "    .dataframe tbody tr th {\n",
       "        vertical-align: top;\n",
       "    }\n",
       "\n",
       "    .dataframe thead th {\n",
       "        text-align: right;\n",
       "    }\n",
       "</style>\n",
       "<table border=\"1\" class=\"dataframe\">\n",
       "  <thead>\n",
       "    <tr style=\"text-align: right;\">\n",
       "      <th></th>\n",
       "      <th>species</th>\n",
       "      <th>sepal_length</th>\n",
       "    </tr>\n",
       "  </thead>\n",
       "  <tbody>\n",
       "    <tr>\n",
       "      <th>0</th>\n",
       "      <td>setosa</td>\n",
       "      <td>5.1</td>\n",
       "    </tr>\n",
       "    <tr>\n",
       "      <th>1</th>\n",
       "      <td>setosa</td>\n",
       "      <td>4.9</td>\n",
       "    </tr>\n",
       "    <tr>\n",
       "      <th>2</th>\n",
       "      <td>setosa</td>\n",
       "      <td>4.7</td>\n",
       "    </tr>\n",
       "    <tr>\n",
       "      <th>3</th>\n",
       "      <td>setosa</td>\n",
       "      <td>4.6</td>\n",
       "    </tr>\n",
       "    <tr>\n",
       "      <th>4</th>\n",
       "      <td>setosa</td>\n",
       "      <td>5.0</td>\n",
       "    </tr>\n",
       "    <tr>\n",
       "      <th>...</th>\n",
       "      <td>...</td>\n",
       "      <td>...</td>\n",
       "    </tr>\n",
       "    <tr>\n",
       "      <th>145</th>\n",
       "      <td>virginica</td>\n",
       "      <td>6.7</td>\n",
       "    </tr>\n",
       "    <tr>\n",
       "      <th>146</th>\n",
       "      <td>virginica</td>\n",
       "      <td>6.3</td>\n",
       "    </tr>\n",
       "    <tr>\n",
       "      <th>147</th>\n",
       "      <td>virginica</td>\n",
       "      <td>6.5</td>\n",
       "    </tr>\n",
       "    <tr>\n",
       "      <th>148</th>\n",
       "      <td>virginica</td>\n",
       "      <td>6.2</td>\n",
       "    </tr>\n",
       "    <tr>\n",
       "      <th>149</th>\n",
       "      <td>virginica</td>\n",
       "      <td>5.9</td>\n",
       "    </tr>\n",
       "  </tbody>\n",
       "</table>\n",
       "<p>150 rows × 2 columns</p>\n",
       "</div>"
      ],
      "text/plain": [
       "       species  sepal_length\n",
       "0       setosa           5.1\n",
       "1       setosa           4.9\n",
       "2       setosa           4.7\n",
       "3       setosa           4.6\n",
       "4       setosa           5.0\n",
       "..         ...           ...\n",
       "145  virginica           6.7\n",
       "146  virginica           6.3\n",
       "147  virginica           6.5\n",
       "148  virginica           6.2\n",
       "149  virginica           5.9\n",
       "\n",
       "[150 rows x 2 columns]"
      ]
     },
     "execution_count": 11,
     "metadata": {},
     "output_type": "execute_result"
    }
   ],
   "source": [
    "df[[\"species\",\"sepal_length\"]]"
   ]
  },
  {
   "cell_type": "markdown",
   "metadata": {},
   "source": [
    "7. Filter the rows in where \"sepal_length\" > 5 & \"species\" =='setosa' from the dataframe"
   ]
  },
  {
   "cell_type": "code",
   "execution_count": 12,
   "metadata": {},
   "outputs": [
    {
     "data": {
      "text/html": [
       "<div>\n",
       "<style scoped>\n",
       "    .dataframe tbody tr th:only-of-type {\n",
       "        vertical-align: middle;\n",
       "    }\n",
       "\n",
       "    .dataframe tbody tr th {\n",
       "        vertical-align: top;\n",
       "    }\n",
       "\n",
       "    .dataframe thead th {\n",
       "        text-align: right;\n",
       "    }\n",
       "</style>\n",
       "<table border=\"1\" class=\"dataframe\">\n",
       "  <thead>\n",
       "    <tr style=\"text-align: right;\">\n",
       "      <th></th>\n",
       "      <th>sepal_length</th>\n",
       "      <th>sepal_width</th>\n",
       "      <th>petal_length</th>\n",
       "      <th>petal_width</th>\n",
       "      <th>species</th>\n",
       "    </tr>\n",
       "  </thead>\n",
       "  <tbody>\n",
       "    <tr>\n",
       "      <th>0</th>\n",
       "      <td>5.1</td>\n",
       "      <td>3.5</td>\n",
       "      <td>1.4</td>\n",
       "      <td>0.2</td>\n",
       "      <td>setosa</td>\n",
       "    </tr>\n",
       "    <tr>\n",
       "      <th>5</th>\n",
       "      <td>5.4</td>\n",
       "      <td>3.9</td>\n",
       "      <td>1.7</td>\n",
       "      <td>0.4</td>\n",
       "      <td>setosa</td>\n",
       "    </tr>\n",
       "    <tr>\n",
       "      <th>10</th>\n",
       "      <td>5.4</td>\n",
       "      <td>3.7</td>\n",
       "      <td>1.5</td>\n",
       "      <td>0.2</td>\n",
       "      <td>setosa</td>\n",
       "    </tr>\n",
       "    <tr>\n",
       "      <th>14</th>\n",
       "      <td>5.8</td>\n",
       "      <td>4.0</td>\n",
       "      <td>1.2</td>\n",
       "      <td>0.2</td>\n",
       "      <td>setosa</td>\n",
       "    </tr>\n",
       "    <tr>\n",
       "      <th>15</th>\n",
       "      <td>5.7</td>\n",
       "      <td>4.4</td>\n",
       "      <td>1.5</td>\n",
       "      <td>0.4</td>\n",
       "      <td>setosa</td>\n",
       "    </tr>\n",
       "    <tr>\n",
       "      <th>16</th>\n",
       "      <td>5.4</td>\n",
       "      <td>3.9</td>\n",
       "      <td>1.3</td>\n",
       "      <td>0.4</td>\n",
       "      <td>setosa</td>\n",
       "    </tr>\n",
       "    <tr>\n",
       "      <th>17</th>\n",
       "      <td>5.1</td>\n",
       "      <td>3.5</td>\n",
       "      <td>1.4</td>\n",
       "      <td>0.3</td>\n",
       "      <td>setosa</td>\n",
       "    </tr>\n",
       "    <tr>\n",
       "      <th>18</th>\n",
       "      <td>5.7</td>\n",
       "      <td>3.8</td>\n",
       "      <td>1.7</td>\n",
       "      <td>0.3</td>\n",
       "      <td>setosa</td>\n",
       "    </tr>\n",
       "    <tr>\n",
       "      <th>19</th>\n",
       "      <td>5.1</td>\n",
       "      <td>3.8</td>\n",
       "      <td>1.5</td>\n",
       "      <td>0.3</td>\n",
       "      <td>setosa</td>\n",
       "    </tr>\n",
       "    <tr>\n",
       "      <th>20</th>\n",
       "      <td>5.4</td>\n",
       "      <td>3.4</td>\n",
       "      <td>1.7</td>\n",
       "      <td>0.2</td>\n",
       "      <td>setosa</td>\n",
       "    </tr>\n",
       "    <tr>\n",
       "      <th>21</th>\n",
       "      <td>5.1</td>\n",
       "      <td>3.7</td>\n",
       "      <td>1.5</td>\n",
       "      <td>0.4</td>\n",
       "      <td>setosa</td>\n",
       "    </tr>\n",
       "    <tr>\n",
       "      <th>23</th>\n",
       "      <td>5.1</td>\n",
       "      <td>3.3</td>\n",
       "      <td>1.7</td>\n",
       "      <td>0.5</td>\n",
       "      <td>setosa</td>\n",
       "    </tr>\n",
       "    <tr>\n",
       "      <th>27</th>\n",
       "      <td>5.2</td>\n",
       "      <td>3.5</td>\n",
       "      <td>1.5</td>\n",
       "      <td>0.2</td>\n",
       "      <td>setosa</td>\n",
       "    </tr>\n",
       "    <tr>\n",
       "      <th>28</th>\n",
       "      <td>5.2</td>\n",
       "      <td>3.4</td>\n",
       "      <td>1.4</td>\n",
       "      <td>0.2</td>\n",
       "      <td>setosa</td>\n",
       "    </tr>\n",
       "    <tr>\n",
       "      <th>31</th>\n",
       "      <td>5.4</td>\n",
       "      <td>3.4</td>\n",
       "      <td>1.5</td>\n",
       "      <td>0.4</td>\n",
       "      <td>setosa</td>\n",
       "    </tr>\n",
       "    <tr>\n",
       "      <th>32</th>\n",
       "      <td>5.2</td>\n",
       "      <td>4.1</td>\n",
       "      <td>1.5</td>\n",
       "      <td>0.1</td>\n",
       "      <td>setosa</td>\n",
       "    </tr>\n",
       "    <tr>\n",
       "      <th>33</th>\n",
       "      <td>5.5</td>\n",
       "      <td>4.2</td>\n",
       "      <td>1.4</td>\n",
       "      <td>0.2</td>\n",
       "      <td>setosa</td>\n",
       "    </tr>\n",
       "    <tr>\n",
       "      <th>36</th>\n",
       "      <td>5.5</td>\n",
       "      <td>3.5</td>\n",
       "      <td>1.3</td>\n",
       "      <td>0.2</td>\n",
       "      <td>setosa</td>\n",
       "    </tr>\n",
       "    <tr>\n",
       "      <th>39</th>\n",
       "      <td>5.1</td>\n",
       "      <td>3.4</td>\n",
       "      <td>1.5</td>\n",
       "      <td>0.2</td>\n",
       "      <td>setosa</td>\n",
       "    </tr>\n",
       "    <tr>\n",
       "      <th>44</th>\n",
       "      <td>5.1</td>\n",
       "      <td>3.8</td>\n",
       "      <td>1.9</td>\n",
       "      <td>0.4</td>\n",
       "      <td>setosa</td>\n",
       "    </tr>\n",
       "    <tr>\n",
       "      <th>46</th>\n",
       "      <td>5.1</td>\n",
       "      <td>3.8</td>\n",
       "      <td>1.6</td>\n",
       "      <td>0.2</td>\n",
       "      <td>setosa</td>\n",
       "    </tr>\n",
       "    <tr>\n",
       "      <th>48</th>\n",
       "      <td>5.3</td>\n",
       "      <td>3.7</td>\n",
       "      <td>1.5</td>\n",
       "      <td>0.2</td>\n",
       "      <td>setosa</td>\n",
       "    </tr>\n",
       "  </tbody>\n",
       "</table>\n",
       "</div>"
      ],
      "text/plain": [
       "    sepal_length  sepal_width  petal_length  petal_width species\n",
       "0            5.1          3.5           1.4          0.2  setosa\n",
       "5            5.4          3.9           1.7          0.4  setosa\n",
       "10           5.4          3.7           1.5          0.2  setosa\n",
       "14           5.8          4.0           1.2          0.2  setosa\n",
       "15           5.7          4.4           1.5          0.4  setosa\n",
       "16           5.4          3.9           1.3          0.4  setosa\n",
       "17           5.1          3.5           1.4          0.3  setosa\n",
       "18           5.7          3.8           1.7          0.3  setosa\n",
       "19           5.1          3.8           1.5          0.3  setosa\n",
       "20           5.4          3.4           1.7          0.2  setosa\n",
       "21           5.1          3.7           1.5          0.4  setosa\n",
       "23           5.1          3.3           1.7          0.5  setosa\n",
       "27           5.2          3.5           1.5          0.2  setosa\n",
       "28           5.2          3.4           1.4          0.2  setosa\n",
       "31           5.4          3.4           1.5          0.4  setosa\n",
       "32           5.2          4.1           1.5          0.1  setosa\n",
       "33           5.5          4.2           1.4          0.2  setosa\n",
       "36           5.5          3.5           1.3          0.2  setosa\n",
       "39           5.1          3.4           1.5          0.2  setosa\n",
       "44           5.1          3.8           1.9          0.4  setosa\n",
       "46           5.1          3.8           1.6          0.2  setosa\n",
       "48           5.3          3.7           1.5          0.2  setosa"
      ]
     },
     "execution_count": 12,
     "metadata": {},
     "output_type": "execute_result"
    }
   ],
   "source": [
    "df[(df[\"sepal_length\"] > 5.0) & (df[\"species\"] == 'setosa')]"
   ]
  },
  {
   "cell_type": "markdown",
   "metadata": {},
   "source": [
    "### Handeling Missing Values using Pandas\n",
    "#### Why need to handle missing values?\n",
    "- ML models need clean and uninterrupted data in order to generate more accurate prediction on them.\n",
    "#### Methods to handle missing values:\n",
    "1. Dropping missing values\n",
    "2. Fill missing values\n",
    "3. Interpolation\n"
   ]
  },
  {
   "cell_type": "markdown",
   "metadata": {},
   "source": [
    "#### Create a Dataset"
   ]
  },
  {
   "cell_type": "code",
   "execution_count": 174,
   "metadata": {},
   "outputs": [
    {
     "name": "stdout",
     "output_type": "stream",
     "text": [
      "Original DataFrame:\n",
      "      Name   Age   Salary Department\n",
      "0    Alice  25.0  50000.0         HR\n",
      "1      Bob   NaN  54000.0         IT\n",
      "2  Charlie  30.0      NaN         IT\n",
      "3    David  22.0  48000.0        NaN\n",
      "4      Eve   NaN  52000.0    Finance\n"
     ]
    }
   ],
   "source": [
    "import pandas as pd\n",
    "import numpy as np\n",
    "\n",
    "# Creating a sample DataFrame with missing values\n",
    "data = {\n",
    "    'Name': ['Alice', 'Bob', 'Charlie', 'David', 'Eve'],\n",
    "    'Age': [25, np.nan, 30, 22, np.nan],\n",
    "    'Salary': [50000, 54000, np.nan, 48000, 52000],\n",
    "    'Department': ['HR', 'IT', 'IT', np.nan, 'Finance']\n",
    "}\n",
    "\n",
    "df = pd.DataFrame(data)\n",
    "print(\"Original DataFrame:\")\n",
    "print(df)"
   ]
  },
  {
   "cell_type": "markdown",
   "metadata": {},
   "source": [
    "1. Drop Missing Data"
   ]
  },
  {
   "cell_type": "markdown",
   "metadata": {},
   "source": [
    "1. a)Drop any row that contains at least one missing value:"
   ]
  },
  {
   "cell_type": "code",
   "execution_count": 137,
   "metadata": {},
   "outputs": [
    {
     "name": "stdout",
     "output_type": "stream",
     "text": [
      "    Name   Age   Salary Department\n",
      "0  Alice  25.0  50000.0         HR\n"
     ]
    }
   ],
   "source": [
    "df_drop_any = df.dropna()\n",
    "print(df_drop_any)"
   ]
  },
  {
   "cell_type": "markdown",
   "metadata": {},
   "source": [
    "1. b) Drop rows only if all values are missing:\n",
    "\n"
   ]
  },
  {
   "cell_type": "code",
   "execution_count": 138,
   "metadata": {},
   "outputs": [
    {
     "name": "stdout",
     "output_type": "stream",
     "text": [
      "      Name   Age   Salary Department\n",
      "0    Alice  25.0  50000.0         HR\n",
      "1      Bob   NaN  54000.0         IT\n",
      "2  Charlie  30.0      NaN         IT\n",
      "3    David  22.0  48000.0        NaN\n",
      "4      Eve   NaN  52000.0    Finance\n"
     ]
    }
   ],
   "source": [
    "df_drop_all = df.dropna(how='all')\n",
    "print(df_drop_all)"
   ]
  },
  {
   "cell_type": "markdown",
   "metadata": {},
   "source": [
    "1. c) Drop columns with missing values:"
   ]
  },
  {
   "cell_type": "code",
   "execution_count": 139,
   "metadata": {},
   "outputs": [
    {
     "name": "stdout",
     "output_type": "stream",
     "text": [
      "      Name\n",
      "0    Alice\n",
      "1      Bob\n",
      "2  Charlie\n",
      "3    David\n",
      "4      Eve\n"
     ]
    }
   ],
   "source": [
    "df_drop_cols = df.dropna(axis=1)\n",
    "print(df_drop_cols)"
   ]
  },
  {
   "cell_type": "markdown",
   "metadata": {},
   "source": [
    "2. Fill Missing Data"
   ]
  },
  {
   "cell_type": "markdown",
   "metadata": {},
   "source": [
    "2. a) Fill with a constant:"
   ]
  },
  {
   "cell_type": "code",
   "execution_count": 141,
   "metadata": {},
   "outputs": [
    {
     "name": "stdout",
     "output_type": "stream",
     "text": [
      "      Name   Age   Salary Department\n",
      "0    Alice  25.0  50000.0         HR\n",
      "1      Bob   0.0  54000.0         IT\n",
      "2  Charlie  30.0      0.0         IT\n",
      "3    David  22.0  48000.0          0\n",
      "4      Eve   0.0  52000.0    Finance\n"
     ]
    }
   ],
   "source": [
    "df_fill_const = df.fillna(0)\n",
    "print(df_fill_const)"
   ]
  },
  {
   "cell_type": "markdown",
   "metadata": {},
   "source": [
    "2. b) Fill with forward fill (last valid value):"
   ]
  },
  {
   "cell_type": "code",
   "execution_count": 142,
   "metadata": {},
   "outputs": [
    {
     "name": "stdout",
     "output_type": "stream",
     "text": [
      "      Name   Age   Salary Department\n",
      "0    Alice  25.0  50000.0         HR\n",
      "1      Bob  25.0  54000.0         IT\n",
      "2  Charlie  30.0  54000.0         IT\n",
      "3    David  22.0  48000.0         IT\n",
      "4      Eve  22.0  52000.0    Finance\n"
     ]
    }
   ],
   "source": [
    "df_fill_ffill = df.ffill()\n",
    "print(df_fill_ffill)"
   ]
  },
  {
   "cell_type": "markdown",
   "metadata": {},
   "source": [
    "2. c) Fill with backward fill (next valid value):"
   ]
  },
  {
   "cell_type": "code",
   "execution_count": 143,
   "metadata": {},
   "outputs": [
    {
     "name": "stdout",
     "output_type": "stream",
     "text": [
      "      Name   Age   Salary Department\n",
      "0    Alice  25.0  50000.0         HR\n",
      "1      Bob  30.0  54000.0         IT\n",
      "2  Charlie  30.0  48000.0         IT\n",
      "3    David  22.0  48000.0    Finance\n",
      "4      Eve   NaN  52000.0    Finance\n"
     ]
    }
   ],
   "source": [
    "df_fill_bfill = df.bfill()\n",
    "print(df_fill_bfill)"
   ]
  },
  {
   "cell_type": "markdown",
   "metadata": {},
   "source": [
    "2. d) Fill each column with its mean/median:"
   ]
  },
  {
   "cell_type": "code",
   "execution_count": 146,
   "metadata": {},
   "outputs": [
    {
     "name": "stdout",
     "output_type": "stream",
     "text": [
      "      Name        Age   Salary Department\n",
      "0    Alice  25.000000  50000.0         HR\n",
      "1      Bob  25.666667  54000.0         IT\n",
      "2  Charlie  30.000000  51000.0         IT\n",
      "3    David  22.000000  48000.0        NaN\n",
      "4      Eve  25.666667  52000.0    Finance\n"
     ]
    }
   ],
   "source": [
    "df_fill_mean = df.copy()\n",
    "\n",
    "df_fill_mean['Age'] = df_fill_mean['Age'].fillna(df['Age'].mean())\n",
    "df_fill_mean['Salary'] = df_fill_mean['Salary'].fillna(df['Salary'].mean())\n",
    "\n",
    "print(df_fill_mean)"
   ]
  },
  {
   "cell_type": "markdown",
   "metadata": {},
   "source": [
    "3. Interpolation"
   ]
  },
  {
   "cell_type": "code",
   "execution_count": 147,
   "metadata": {},
   "outputs": [
    {
     "name": "stdout",
     "output_type": "stream",
     "text": [
      "      Name   Age   Salary Department\n",
      "0    Alice  25.0  50000.0         HR\n",
      "1      Bob  27.5  54000.0         IT\n",
      "2  Charlie  30.0  51000.0         IT\n",
      "3    David  22.0  48000.0        NaN\n",
      "4      Eve  22.0  52000.0    Finance\n"
     ]
    }
   ],
   "source": [
    "df_interpolated = df.copy()\n",
    "df_interpolated[['Age','Salary']] = df_interpolated[['Age','Salary']].interpolate()\n",
    "\n",
    "print(df_interpolated)"
   ]
  },
  {
   "cell_type": "markdown",
   "metadata": {},
   "source": [
    "### Data Transformation\n",
    "- Renaming Columns\n",
    "- Changing Data Types\n",
    "- Creating or Modifying column"
   ]
  },
  {
   "cell_type": "markdown",
   "metadata": {},
   "source": [
    "1. Renaming Column"
   ]
  },
  {
   "cell_type": "code",
   "execution_count": 148,
   "metadata": {},
   "outputs": [
    {
     "name": "stdout",
     "output_type": "stream",
     "text": [
      "  Employee Name   Age  Monthly Salary Department\n",
      "0         Alice  25.0         50000.0         HR\n",
      "1           Bob   NaN         54000.0         IT\n",
      "2       Charlie  30.0             NaN         IT\n",
      "3         David  22.0         48000.0        NaN\n",
      "4           Eve   NaN         52000.0    Finance\n"
     ]
    }
   ],
   "source": [
    "df.rename(columns={'Name':'Employee Name','Salary':'Monthly Salary'},inplace=True)\n",
    "\n",
    "print(df)"
   ]
  },
  {
   "cell_type": "markdown",
   "metadata": {},
   "source": [
    " 2. Changing Data Types"
   ]
  },
  {
   "cell_type": "code",
   "execution_count": 152,
   "metadata": {},
   "outputs": [
    {
     "name": "stdout",
     "output_type": "stream",
     "text": [
      "  Employee Name  Age  Monthly Salary Department\n",
      "0         Alice   25         50000.0         HR\n",
      "1           Bob   25         54000.0         IT\n",
      "2       Charlie   30             NaN         IT\n",
      "3         David   22         48000.0        nan\n",
      "4           Eve   25         52000.0    Finance\n"
     ]
    }
   ],
   "source": [
    "df['Age'] = df['Age'].fillna(df['Age'].mean())         # Fill missing before converting\n",
    "df['Age'] = df['Age'].astype(int)                      # Convert to integer\n",
    "\n",
    "df['Monthly Salary'] = df['Monthly Salary'].astype(float)  # Ensure float\n",
    "\n",
    "# Convert Department to string and fill missing\n",
    "df['Department'] = df['Department'].astype(str)\n",
    "df['Department'] = df['Department'].ffill()\n",
    "\n",
    "\n",
    "print(df)"
   ]
  },
  {
   "cell_type": "markdown",
   "metadata": {},
   "source": [
    "### Exercise-2: Clean a Dataset by Handeling Missing Values and Renaming Columns"
   ]
  },
  {
   "cell_type": "markdown",
   "metadata": {},
   "source": [
    "1. Random Dataset Creation"
   ]
  },
  {
   "cell_type": "code",
   "execution_count": 175,
   "metadata": {},
   "outputs": [
    {
     "name": "stdout",
     "output_type": "stream",
     "text": [
      "   ID   Name   Age   Salary  Department   JoinDate\n",
      "0   1  Frank  64.0      NaN     Finance 2020-01-01\n",
      "1   2    NaN  51.0  99362.0          HR 2020-01-02\n",
      "2   3    Bob  37.0  78731.0          HR 2020-01-03\n",
      "3   4  Alice  26.0  86422.0  Operations 2020-01-04\n",
      "4   5  Alice  47.0  42658.0          HR 2020-01-05\n",
      "5   6    Bob  52.0  81439.0   Marketing 2020-01-06\n",
      "6   7    Bob  62.0  48431.0     Finance 2020-01-07\n",
      "7   8  Grace   NaN  31223.0          IT 2020-01-08\n",
      "8   9    Bob  36.0  89917.0   Marketing 2020-01-09\n",
      "9  10    Eve  40.0  55979.0          IT 2020-01-10\n"
     ]
    }
   ],
   "source": [
    "import pandas as pd\n",
    "import numpy as np\n",
    "\n",
    "# Set seed for reproducibility\n",
    "np.random.seed(54)\n",
    "\n",
    "# Number of rows\n",
    "n = 100\n",
    "\n",
    "# Create a DataFrame with synthetic data\n",
    "data = {\n",
    "    'ID': range(1, n+1),\n",
    "    'Name': np.random.choice(['Alice', 'Bob', 'Charlie', 'David', 'Eve', 'Frank', 'Grace'], size=n),\n",
    "    'Age': np.random.randint(18, 65, size=n).astype(float),  # Use float for missing value compatibility\n",
    "    'Salary': np.random.randint(30000, 100000, size=n).astype(float),\n",
    "    'Department': np.random.choice(['HR', 'IT', 'Finance', 'Marketing', 'Operations'], size=n),\n",
    "    'JoinDate': pd.date_range(start='2020-01-01', periods=n, freq='D')\n",
    "}\n",
    "\n",
    "df_big = pd.DataFrame(data)\n",
    "\n",
    "# Introduce missing values randomly in a few columns (10% missing rate per column)\n",
    "for col in ['Name', 'Age', 'Salary', 'Department']:\n",
    "    df_big.loc[df_big.sample(frac=0.1).index, col] = np.nan\n",
    "\n",
    "print(df_big.head(10))\n"
   ]
  },
  {
   "cell_type": "markdown",
   "metadata": {},
   "source": [
    "2. Explore Dataset"
   ]
  },
  {
   "cell_type": "code",
   "execution_count": 176,
   "metadata": {},
   "outputs": [
    {
     "name": "stdout",
     "output_type": "stream",
     "text": [
      "<class 'pandas.core.frame.DataFrame'>\n",
      "RangeIndex: 100 entries, 0 to 99\n",
      "Data columns (total 6 columns):\n",
      " #   Column      Non-Null Count  Dtype         \n",
      "---  ------      --------------  -----         \n",
      " 0   ID          100 non-null    int64         \n",
      " 1   Name        90 non-null     object        \n",
      " 2   Age         90 non-null     float64       \n",
      " 3   Salary      90 non-null     float64       \n",
      " 4   Department  90 non-null     object        \n",
      " 5   JoinDate    100 non-null    datetime64[ns]\n",
      "dtypes: datetime64[ns](1), float64(2), int64(1), object(2)\n",
      "memory usage: 4.8+ KB\n"
     ]
    }
   ],
   "source": [
    "#View the Structure:\n",
    "df_big.info() "
   ]
  },
  {
   "cell_type": "code",
   "execution_count": 177,
   "metadata": {},
   "outputs": [
    {
     "data": {
      "text/html": [
       "<div>\n",
       "<style scoped>\n",
       "    .dataframe tbody tr th:only-of-type {\n",
       "        vertical-align: middle;\n",
       "    }\n",
       "\n",
       "    .dataframe tbody tr th {\n",
       "        vertical-align: top;\n",
       "    }\n",
       "\n",
       "    .dataframe thead th {\n",
       "        text-align: right;\n",
       "    }\n",
       "</style>\n",
       "<table border=\"1\" class=\"dataframe\">\n",
       "  <thead>\n",
       "    <tr style=\"text-align: right;\">\n",
       "      <th></th>\n",
       "      <th>ID</th>\n",
       "      <th>Name</th>\n",
       "      <th>Age</th>\n",
       "      <th>Salary</th>\n",
       "      <th>Department</th>\n",
       "      <th>JoinDate</th>\n",
       "    </tr>\n",
       "  </thead>\n",
       "  <tbody>\n",
       "    <tr>\n",
       "      <th>count</th>\n",
       "      <td>100.000000</td>\n",
       "      <td>90</td>\n",
       "      <td>90.000000</td>\n",
       "      <td>90.000000</td>\n",
       "      <td>90</td>\n",
       "      <td>100</td>\n",
       "    </tr>\n",
       "    <tr>\n",
       "      <th>unique</th>\n",
       "      <td>NaN</td>\n",
       "      <td>7</td>\n",
       "      <td>NaN</td>\n",
       "      <td>NaN</td>\n",
       "      <td>5</td>\n",
       "      <td>NaN</td>\n",
       "    </tr>\n",
       "    <tr>\n",
       "      <th>top</th>\n",
       "      <td>NaN</td>\n",
       "      <td>Eve</td>\n",
       "      <td>NaN</td>\n",
       "      <td>NaN</td>\n",
       "      <td>IT</td>\n",
       "      <td>NaN</td>\n",
       "    </tr>\n",
       "    <tr>\n",
       "      <th>freq</th>\n",
       "      <td>NaN</td>\n",
       "      <td>17</td>\n",
       "      <td>NaN</td>\n",
       "      <td>NaN</td>\n",
       "      <td>20</td>\n",
       "      <td>NaN</td>\n",
       "    </tr>\n",
       "    <tr>\n",
       "      <th>mean</th>\n",
       "      <td>50.500000</td>\n",
       "      <td>NaN</td>\n",
       "      <td>42.122222</td>\n",
       "      <td>67223.400000</td>\n",
       "      <td>NaN</td>\n",
       "      <td>2020-02-19 12:00:00</td>\n",
       "    </tr>\n",
       "    <tr>\n",
       "      <th>min</th>\n",
       "      <td>1.000000</td>\n",
       "      <td>NaN</td>\n",
       "      <td>18.000000</td>\n",
       "      <td>30766.000000</td>\n",
       "      <td>NaN</td>\n",
       "      <td>2020-01-01 00:00:00</td>\n",
       "    </tr>\n",
       "    <tr>\n",
       "      <th>25%</th>\n",
       "      <td>25.750000</td>\n",
       "      <td>NaN</td>\n",
       "      <td>32.000000</td>\n",
       "      <td>51366.250000</td>\n",
       "      <td>NaN</td>\n",
       "      <td>2020-01-25 18:00:00</td>\n",
       "    </tr>\n",
       "    <tr>\n",
       "      <th>50%</th>\n",
       "      <td>50.500000</td>\n",
       "      <td>NaN</td>\n",
       "      <td>42.000000</td>\n",
       "      <td>66653.000000</td>\n",
       "      <td>NaN</td>\n",
       "      <td>2020-02-19 12:00:00</td>\n",
       "    </tr>\n",
       "    <tr>\n",
       "      <th>75%</th>\n",
       "      <td>75.250000</td>\n",
       "      <td>NaN</td>\n",
       "      <td>53.000000</td>\n",
       "      <td>87340.750000</td>\n",
       "      <td>NaN</td>\n",
       "      <td>2020-03-15 06:00:00</td>\n",
       "    </tr>\n",
       "    <tr>\n",
       "      <th>max</th>\n",
       "      <td>100.000000</td>\n",
       "      <td>NaN</td>\n",
       "      <td>64.000000</td>\n",
       "      <td>99362.000000</td>\n",
       "      <td>NaN</td>\n",
       "      <td>2020-04-09 00:00:00</td>\n",
       "    </tr>\n",
       "    <tr>\n",
       "      <th>std</th>\n",
       "      <td>29.011492</td>\n",
       "      <td>NaN</td>\n",
       "      <td>13.428820</td>\n",
       "      <td>20196.998282</td>\n",
       "      <td>NaN</td>\n",
       "      <td>NaN</td>\n",
       "    </tr>\n",
       "  </tbody>\n",
       "</table>\n",
       "</div>"
      ],
      "text/plain": [
       "                ID Name        Age        Salary Department  \\\n",
       "count   100.000000   90  90.000000     90.000000         90   \n",
       "unique         NaN    7        NaN           NaN          5   \n",
       "top            NaN  Eve        NaN           NaN         IT   \n",
       "freq           NaN   17        NaN           NaN         20   \n",
       "mean     50.500000  NaN  42.122222  67223.400000        NaN   \n",
       "min       1.000000  NaN  18.000000  30766.000000        NaN   \n",
       "25%      25.750000  NaN  32.000000  51366.250000        NaN   \n",
       "50%      50.500000  NaN  42.000000  66653.000000        NaN   \n",
       "75%      75.250000  NaN  53.000000  87340.750000        NaN   \n",
       "max     100.000000  NaN  64.000000  99362.000000        NaN   \n",
       "std      29.011492  NaN  13.428820  20196.998282        NaN   \n",
       "\n",
       "                   JoinDate  \n",
       "count                   100  \n",
       "unique                  NaN  \n",
       "top                     NaN  \n",
       "freq                    NaN  \n",
       "mean    2020-02-19 12:00:00  \n",
       "min     2020-01-01 00:00:00  \n",
       "25%     2020-01-25 18:00:00  \n",
       "50%     2020-02-19 12:00:00  \n",
       "75%     2020-03-15 06:00:00  \n",
       "max     2020-04-09 00:00:00  \n",
       "std                     NaN  "
      ]
     },
     "execution_count": 177,
     "metadata": {},
     "output_type": "execute_result"
    }
   ],
   "source": [
    "#Summary Statistics:\n",
    "df_big.describe(include='all') "
   ]
  },
  {
   "cell_type": "code",
   "execution_count": 178,
   "metadata": {},
   "outputs": [
    {
     "data": {
      "text/plain": [
       "ID             0\n",
       "Name          10\n",
       "Age           10\n",
       "Salary        10\n",
       "Department    10\n",
       "JoinDate       0\n",
       "dtype: int64"
      ]
     },
     "execution_count": 178,
     "metadata": {},
     "output_type": "execute_result"
    }
   ],
   "source": [
    "#Check Missing Values:\n",
    "df_big.isnull().sum()"
   ]
  },
  {
   "cell_type": "markdown",
   "metadata": {},
   "source": [
    "3. Handling Missing Data"
   ]
  },
  {
   "cell_type": "code",
   "execution_count": 179,
   "metadata": {},
   "outputs": [
    {
     "name": "stdout",
     "output_type": "stream",
     "text": [
      "     ID   Name   Age   Salary  Department   JoinDate\n",
      "0     1  Frank  64.0  99362.0     Finance 2020-01-01\n",
      "1     2    NaN  51.0  99362.0          HR 2020-01-02\n",
      "2     3    Bob  37.0  78731.0          HR 2020-01-03\n",
      "3     4  Alice  26.0  86422.0  Operations 2020-01-04\n",
      "4     5  Alice  47.0  42658.0          HR 2020-01-05\n",
      "..  ...    ...   ...      ...         ...        ...\n",
      "95   96  Alice  32.0  64324.0          IT 2020-04-05\n",
      "96   97    Eve  37.0  79982.5          IT 2020-04-06\n",
      "97   98    Bob  40.0  95641.0         NaN 2020-04-07\n",
      "98   99  David  21.0  97589.0          IT 2020-04-08\n",
      "99  100  Alice  44.0  98645.0   Marketing 2020-04-09\n",
      "\n",
      "[100 rows x 6 columns]\n"
     ]
    }
   ],
   "source": [
    "#Numeric Columns Example:\n",
    "df_big[['Age', 'Salary']] = df_big[['Age', 'Salary']].interpolate()\n",
    "df_big['Salary'] = df_big['Salary'].bfill()\n",
    "\n",
    "print(df_big)"
   ]
  },
  {
   "cell_type": "code",
   "execution_count": 180,
   "metadata": {},
   "outputs": [
    {
     "name": "stdout",
     "output_type": "stream",
     "text": [
      "     ID   Name   Age   Salary  Department   JoinDate\n",
      "0     1  Frank  64.0  99362.0     Finance 2020-01-01\n",
      "1     2  Frank  51.0  99362.0          HR 2020-01-02\n",
      "2     3    Bob  37.0  78731.0          HR 2020-01-03\n",
      "3     4  Alice  26.0  86422.0  Operations 2020-01-04\n",
      "4     5  Alice  47.0  42658.0          HR 2020-01-05\n",
      "..  ...    ...   ...      ...         ...        ...\n",
      "95   96  Alice  32.0  64324.0          IT 2020-04-05\n",
      "96   97    Eve  37.0  79982.5          IT 2020-04-06\n",
      "97   98    Bob  40.0  95641.0          IT 2020-04-07\n",
      "98   99  David  21.0  97589.0          IT 2020-04-08\n",
      "99  100  Alice  44.0  98645.0   Marketing 2020-04-09\n",
      "\n",
      "[100 rows x 6 columns]\n"
     ]
    }
   ],
   "source": [
    "#Categorical Columns Example:\n",
    "df_big['Name'] = df_big['Name'].ffill()  # Forward fill for names\n",
    "df_big['Department'] = df_big['Department'].fillna(df_big['Department'].mode()[0])\n",
    "\n",
    "print(df_big)\n"
   ]
  },
  {
   "cell_type": "markdown",
   "metadata": {},
   "source": [
    "4. Transform Your Data"
   ]
  },
  {
   "cell_type": "code",
   "execution_count": 181,
   "metadata": {},
   "outputs": [
    {
     "name": "stdout",
     "output_type": "stream",
     "text": [
      "     ID Employee Name  Age   Salary  Department   JoinDate\n",
      "0     1         Frank   64  99362.0     Finance 2020-01-01\n",
      "1     2         Frank   51  99362.0          HR 2020-01-02\n",
      "2     3           Bob   37  78731.0          HR 2020-01-03\n",
      "3     4         Alice   26  86422.0  Operations 2020-01-04\n",
      "4     5         Alice   47  42658.0          HR 2020-01-05\n",
      "..  ...           ...  ...      ...         ...        ...\n",
      "95   96         Alice   32  64324.0          IT 2020-04-05\n",
      "96   97           Eve   37  79982.5          IT 2020-04-06\n",
      "97   98           Bob   40  95641.0          IT 2020-04-07\n",
      "98   99         David   21  97589.0          IT 2020-04-08\n",
      "99  100         Alice   44  98645.0   Marketing 2020-04-09\n",
      "\n",
      "[100 rows x 6 columns]\n"
     ]
    }
   ],
   "source": [
    "# Renaming Columns:\n",
    "df_big.rename(columns={'Name': 'Employee Name'}, inplace=True)\n",
    "# Changing Data Types:\n",
    "df_big['Age'] = df_big['Age'].astype(int)\n",
    "df_big['Salary'] = df_big['Salary'].astype(float)\n",
    "\n",
    "\n",
    "print(df_big)"
   ]
  },
  {
   "cell_type": "code",
   "execution_count": 182,
   "metadata": {},
   "outputs": [
    {
     "name": "stdout",
     "output_type": "stream",
     "text": [
      "     ID Employee Name  Age   Salary  Department   JoinDate  Bonus Salary\n",
      "0     1         Frank   64  99362.0     Finance 2020-01-01     109298.20\n",
      "1     2         Frank   51  99362.0          HR 2020-01-02     109298.20\n",
      "2     3           Bob   37  78731.0          HR 2020-01-03      86604.10\n",
      "3     4         Alice   26  86422.0  Operations 2020-01-04      95064.20\n",
      "4     5         Alice   47  42658.0          HR 2020-01-05      46923.80\n",
      "..  ...           ...  ...      ...         ...        ...           ...\n",
      "95   96         Alice   32  64324.0          IT 2020-04-05      70756.40\n",
      "96   97           Eve   37  79982.5          IT 2020-04-06      87980.75\n",
      "97   98           Bob   40  95641.0          IT 2020-04-07     105205.10\n",
      "98   99         David   21  97589.0          IT 2020-04-08     107347.90\n",
      "99  100         Alice   44  98645.0   Marketing 2020-04-09     108509.50\n",
      "\n",
      "[100 rows x 7 columns]\n"
     ]
    }
   ],
   "source": [
    "# Creating New Columns:\n",
    "df_big['Bonus Salary'] = df_big['Salary'] * 1.10\n",
    "\n",
    "print(df_big)"
   ]
  },
  {
   "cell_type": "code",
   "execution_count": 186,
   "metadata": {},
   "outputs": [
    {
     "name": "stdout",
     "output_type": "stream",
     "text": [
      "   ID Employee Name  Age   Salary  Department   JoinDate  Bonus Salary\n",
      "0   1         Frank   64  99362.0     Finance 2020-01-01      109298.2\n",
      "1   2         Frank   51  99362.0          HR 2020-01-02      109298.2\n",
      "2   3           Bob   37  78731.0          HR 2020-01-03       86604.1\n",
      "3   4         Alice   26  86422.0  Operations 2020-01-04       95064.2\n",
      "4   5         Alice   47  42658.0          HR 2020-01-05       46923.8\n",
      "5   6           Bob   52  81439.0   Marketing 2020-01-06       89582.9\n",
      "6   7           Bob   62  48431.0     Finance 2020-01-07       53274.1\n",
      "7   8         Grace   49  31223.0          IT 2020-01-08       34345.3\n",
      "8   9           Bob   36  89917.0   Marketing 2020-01-09       98908.7\n",
      "9  10           Eve   40  55979.0          IT 2020-01-10       61576.9\n"
     ]
    }
   ],
   "source": [
    "print(df_big.head(10))\n"
   ]
  },
  {
   "cell_type": "markdown",
   "metadata": {},
   "source": [
    "### Combining & Merging Dataframes\n",
    "- Concatenation\n",
    "- Merging\n",
    "- Joining"
   ]
  },
  {
   "cell_type": "markdown",
   "metadata": {},
   "source": [
    "1. Concatenation:"
   ]
  },
  {
   "cell_type": "code",
   "execution_count": 6,
   "metadata": {},
   "outputs": [
    {
     "name": "stdout",
     "output_type": "stream",
     "text": [
      "Concatenated DataFrame:\n",
      "    A   B\n",
      "0  A0  B0\n",
      "1  A1  B1\n",
      "2  A2  B2\n",
      "3  A3  B3\n",
      "4  A4  B4\n",
      "5  A5  B5\n"
     ]
    }
   ],
   "source": [
    "import pandas as pd\n",
    "\n",
    "# Define DataFrames for concatenation\n",
    "df1 = pd.DataFrame({\n",
    "    'A': ['A0', 'A1', 'A2'],\n",
    "    'B': ['B0', 'B1', 'B2']\n",
    "})\n",
    "df2 = pd.DataFrame({\n",
    "    'A': ['A3', 'A4', 'A5'],\n",
    "    'B': ['B3', 'B4', 'B5']\n",
    "})\n",
    "\n",
    "# Concatenate the DataFrames vertically (row-wise)\n",
    "concatenated_df = pd.concat([df1, df2],ignore_index=True)\n",
    "print(\"Concatenated DataFrame:\")\n",
    "print(concatenated_df)"
   ]
  },
  {
   "cell_type": "markdown",
   "metadata": {},
   "source": [
    "2. Merging"
   ]
  },
  {
   "cell_type": "code",
   "execution_count": 7,
   "metadata": {},
   "outputs": [
    {
     "name": "stdout",
     "output_type": "stream",
     "text": [
      "Merged DataFrame:\n",
      "  key   A   B\n",
      "0  K0  A0  B0\n",
      "1  K1  A1  B1\n",
      "2  K2  A2  B2\n",
      "3  K3  A3  B3\n"
     ]
    }
   ],
   "source": [
    "import pandas as pd\n",
    "\n",
    "# Define DataFrames for merging (with a common key)\n",
    "df_left = pd.DataFrame({\n",
    "    'key': ['K0', 'K1', 'K2', 'K3'],\n",
    "    'A': ['A0', 'A1', 'A2', 'A3']\n",
    "})\n",
    "df_right = pd.DataFrame({\n",
    "    'key': ['K0', 'K1', 'K2', 'K3'],\n",
    "    'B': ['B0', 'B1', 'B2', 'B3']\n",
    "})\n",
    "\n",
    "# Merge the DataFrames on the 'key' column\n",
    "merged_df = pd.merge(df_left, df_right, on='key')\n",
    "print(\"Merged DataFrame:\")\n",
    "print(merged_df)"
   ]
  },
  {
   "cell_type": "markdown",
   "metadata": {},
   "source": [
    "3. Joining"
   ]
  },
  {
   "cell_type": "code",
   "execution_count": 8,
   "metadata": {},
   "outputs": [
    {
     "name": "stdout",
     "output_type": "stream",
     "text": [
      "Joined DataFrame:\n",
      "     A   B\n",
      "K0  A0  B0\n",
      "K1  A1  B1\n",
      "K2  A2  B2\n"
     ]
    }
   ],
   "source": [
    "import pandas as pd\n",
    "\n",
    "# Define DataFrames for joining (using indexes)\n",
    "df_left2 = pd.DataFrame({\n",
    "    'A': ['A0', 'A1', 'A2']\n",
    "}, index=['K0', 'K1', 'K2'])\n",
    "df_right2 = pd.DataFrame({\n",
    "    'B': ['B0', 'B1', 'B2']\n",
    "}, index=['K0', 'K1', 'K2'])\n",
    "\n",
    "# Join the DataFrames on their indexes\n",
    "joined_df = df_left2.join(df_right2)\n",
    "print(\"Joined DataFrame:\")\n",
    "print(joined_df)\n"
   ]
  },
  {
   "cell_type": "markdown",
   "metadata": {},
   "source": [
    "### Grouping Data by Catagories\n",
    "#### Why Group Data?\n",
    "- Grouping data allows to perform operation on subset of data based on shared catagories.\n",
    "\n",
    "### *groupby* in Pandas:\n",
    "  - Operations:\n",
    "     - Iterate over groups\n",
    "     - Apply aggregation"
   ]
  },
  {
   "cell_type": "markdown",
   "metadata": {},
   "source": [
    "Create Data"
   ]
  },
  {
   "cell_type": "code",
   "execution_count": 10,
   "metadata": {},
   "outputs": [
    {
     "name": "stdout",
     "output_type": "stream",
     "text": [
      "Original DataFrame:\n",
      "  Team  Points Player\n",
      "0    A      10   John\n",
      "1    B      20  Alice\n",
      "2    A      30    Bob\n",
      "3    B      40  Carol\n",
      "4    A      50   Dave\n",
      "5    B      60    Eve\n"
     ]
    }
   ],
   "source": [
    "import pandas as pd\n",
    "\n",
    "# Create a sample DataFrame\n",
    "data = {\n",
    "    'Team': ['A', 'B', 'A', 'B', 'A', 'B'],\n",
    "    'Points': [10, 20, 30, 40, 50, 60],\n",
    "    'Player': ['John', 'Alice', 'Bob', 'Carol', 'Dave', 'Eve']\n",
    "}\n",
    "\n",
    "df = pd.DataFrame(data)\n",
    "print(\"Original DataFrame:\")\n",
    "print(df)"
   ]
  },
  {
   "cell_type": "markdown",
   "metadata": {},
   "source": [
    "Iterate over groups"
   ]
  },
  {
   "cell_type": "code",
   "execution_count": 12,
   "metadata": {},
   "outputs": [
    {
     "name": "stdout",
     "output_type": "stream",
     "text": [
      "\n",
      "Group: A\n",
      "  Team  Points Player\n",
      "0    A      10   John\n",
      "2    A      30    Bob\n",
      "4    A      50   Dave\n",
      "\n",
      "Group: B\n",
      "  Team  Points Player\n",
      "1    B      20  Alice\n",
      "3    B      40  Carol\n",
      "5    B      60    Eve\n"
     ]
    }
   ],
   "source": [
    "# Group the DataFrame by the 'Team' column\n",
    "grouped = df.groupby('Team')\n",
    "\n",
    "# Iterate over each group\n",
    "for team, group in grouped:\n",
    "    print(f\"\\nGroup: {team}\")\n",
    "    print(group)"
   ]
  },
  {
   "cell_type": "markdown",
   "metadata": {},
   "source": [
    "### Aggregation Functions:\n",
    " - Using *groupby*\n",
    " - Using *pivot_table*\n",
    " - Custom Aggregation\n",
    "   - Apply custom function using .agg() \n",
    "\n",
    "#### Calculating Summary Statistics for Grouped Data\n",
    "- Common Statistics:\n",
    "   - Mean\n",
    "   - Max\n",
    "   - Min"
   ]
  },
  {
   "cell_type": "markdown",
   "metadata": {},
   "source": [
    "Create Data"
   ]
  },
  {
   "cell_type": "code",
   "execution_count": 13,
   "metadata": {},
   "outputs": [
    {
     "name": "stdout",
     "output_type": "stream",
     "text": [
      "Original DataFrame:\n",
      "  Team  Points  Assists\n",
      "0    A      10        1\n",
      "1    B      20        2\n",
      "2    A      30        3\n",
      "3    B      40        4\n",
      "4    A      50        5\n",
      "5    B      60        6\n"
     ]
    }
   ],
   "source": [
    "import pandas as pd\n",
    "import numpy as np\n",
    "\n",
    "# Create a sample DataFrame\n",
    "data = {\n",
    "    'Team': ['A', 'B', 'A', 'B', 'A', 'B'],\n",
    "    'Points': [10, 20, 30, 40, 50, 60],\n",
    "    'Assists': [1, 2, 3, 4, 5, 6]\n",
    "}\n",
    "\n",
    "df = pd.DataFrame(data)\n",
    "print(\"Original DataFrame:\")\n",
    "print(df)"
   ]
  },
  {
   "cell_type": "markdown",
   "metadata": {},
   "source": [
    "1. Aggregation using *groupby*"
   ]
  },
  {
   "cell_type": "code",
   "execution_count": 14,
   "metadata": {},
   "outputs": [
    {
     "name": "stdout",
     "output_type": "stream",
     "text": [
      "\n",
      "Aggregation using groupby (sum):\n",
      "      Points  Assists\n",
      "Team                 \n",
      "A         90        9\n",
      "B        120       12\n"
     ]
    }
   ],
   "source": [
    "#Calculate the sum of 'Points' and 'Assists' for each team\n",
    "groupby_agg = df.groupby('Team').sum()\n",
    "print(\"\\nAggregation using groupby (sum):\")\n",
    "print(groupby_agg)"
   ]
  },
  {
   "cell_type": "markdown",
   "metadata": {},
   "source": [
    "2. Aggregation using pivot_table"
   ]
  },
  {
   "cell_type": "code",
   "execution_count": 16,
   "metadata": {},
   "outputs": [
    {
     "name": "stdout",
     "output_type": "stream",
     "text": [
      "\n",
      "Aggregation using pivot_table (mean):\n",
      "      Points\n",
      "Team        \n",
      "A       30.0\n",
      "B       40.0\n"
     ]
    }
   ],
   "source": [
    "pivot_agg = pd.pivot_table(df, index='Team', values='Points', aggfunc='mean')\n",
    "print(\"\\nAggregation using pivot_table (mean):\")\n",
    "print(pivot_agg)"
   ]
  },
  {
   "cell_type": "markdown",
   "metadata": {},
   "source": [
    "3. Custom Aggregation using .agg()"
   ]
  },
  {
   "cell_type": "code",
   "execution_count": 17,
   "metadata": {},
   "outputs": [
    {
     "name": "stdout",
     "output_type": "stream",
     "text": [
      "\n",
      "Custom Aggregation using .agg():\n",
      "      Points_sum  Points_mean  Points_range  Assists_min  Assists_max\n",
      "Team                                                                 \n",
      "A             90         30.0            40            1            5\n",
      "B            120         40.0            40            2            6\n"
     ]
    }
   ],
   "source": [
    "custom_agg = df.groupby('Team').agg({\n",
    "    'Points': ['sum', 'mean', lambda x: np.max(x) - np.min(x)],\n",
    "    'Assists': ['min', 'max']\n",
    "})\n",
    "\n",
    "# Optionally, rename columns for clarity\n",
    "custom_agg.columns = ['Points_sum', 'Points_mean', 'Points_range', 'Assists_min', 'Assists_max']\n",
    "print(\"\\nCustom Aggregation using .agg():\")\n",
    "print(custom_agg)"
   ]
  }
 ],
 "metadata": {
  "kernelspec": {
   "display_name": "ds_libraries",
   "language": "python",
   "name": "python3"
  },
  "language_info": {
   "codemirror_mode": {
    "name": "ipython",
    "version": 3
   },
   "file_extension": ".py",
   "mimetype": "text/x-python",
   "name": "python",
   "nbconvert_exporter": "python",
   "pygments_lexer": "ipython3",
   "version": "3.13.1"
  }
 },
 "nbformat": 4,
 "nbformat_minor": 2
}
