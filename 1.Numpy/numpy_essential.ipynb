{
 "cells": [
  {
   "cell_type": "markdown",
   "metadata": {},
   "source": [
    "# Numpy Handbook for Ai\n",
    "### *Ashraful Islam Mahi*\n",
    "*Full Stack Python Developer | ML & Robotics Enthusiast*\n",
    "\n",
    "![Numpy Logo](numpy.png)\n",
    "---\n",
    "\n",
    "## Understanding the Role of Numpy in Data Science & Machine Learning.\n",
    "---\n",
    "### What is Numpy?\n",
    "- Numpy or 'Numerical Python' is a mathematical library of Python for numerical calculation. It provides fast and efficient ways to perform numerical operations on large datasets using Arrays and supports advanced mathematical functions.\n",
    "### Why use Numpy in Ai?\n",
    "- Performance: Numpy arrays are more efficient than python lists.\n",
    "- Ease of Use: Builtin opertaions for mathematical and linear algebra functions.\n",
    "- Integration: Works seemlessly with the libraries like 'Pandas', 'Matplotlib', 'Scikit-learn', 'Tensorflow', 'Pytorch' etc."
   ]
  },
  {
   "cell_type": "markdown",
   "metadata": {},
   "source": [
    "### Creating and Manipulating Numpy Arrays\n",
    "---"
   ]
  },
  {
   "cell_type": "markdown",
   "metadata": {},
   "source": [
    "0. Installing Numpy Library"
   ]
  },
  {
   "cell_type": "code",
   "execution_count": null,
   "metadata": {},
   "outputs": [],
   "source": [
    "%pip install numpy"
   ]
  },
  {
   "cell_type": "markdown",
   "metadata": {},
   "source": [
    " 1. Importing Numpy Library"
   ]
  },
  {
   "cell_type": "code",
   "execution_count": 3,
   "metadata": {},
   "outputs": [],
   "source": [
    "import numpy as np"
   ]
  },
  {
   "cell_type": "markdown",
   "metadata": {},
   "source": [
    "2. Creating Numpy Array"
   ]
  },
  {
   "cell_type": "code",
   "execution_count": 5,
   "metadata": {},
   "outputs": [
    {
     "name": "stdout",
     "output_type": "stream",
     "text": [
      "[1 2 3 4 5]\n"
     ]
    }
   ],
   "source": [
    "# step-1: Create an list first\n",
    "list = [1,2,3,4,5] \n",
    "# step-2: turn that list into numpy array\n",
    "arr = np.array(list)\n",
    "\n",
    "print(arr)"
   ]
  },
  {
   "cell_type": "markdown",
   "metadata": {},
   "source": [
    "3. Build a matrix full of zeros"
   ]
  },
  {
   "cell_type": "code",
   "execution_count": null,
   "metadata": {},
   "outputs": [
    {
     "name": "stdout",
     "output_type": "stream",
     "text": [
      "[[0. 0. 0.]\n",
      " [0. 0. 0.]\n",
      " [0. 0. 0.]]\n"
     ]
    }
   ],
   "source": [
    "#create a 3*3 matrix of zeros\n",
    "dimention = (3,3)\n",
    "Zeros = np.zeros(dimention)\n",
    "\n",
    "\n",
    "print(Zeros)"
   ]
  },
  {
   "cell_type": "markdown",
   "metadata": {},
   "source": [
    "4. Build a matrix full of ones"
   ]
  },
  {
   "cell_type": "code",
   "execution_count": null,
   "metadata": {},
   "outputs": [
    {
     "name": "stdout",
     "output_type": "stream",
     "text": [
      "[[1. 1. 1. 1.]\n",
      " [1. 1. 1. 1.]]\n"
     ]
    }
   ],
   "source": [
    "#create a 2*4 matrix of ones\n",
    "dimention = (2,4)\n",
    "Ones = np.ones(dimention)\n",
    "\n",
    "print(Ones)"
   ]
  },
  {
   "cell_type": "markdown",
   "metadata": {},
   "source": [
    "5. Create an array with \"arange\" function"
   ]
  },
  {
   "cell_type": "code",
   "execution_count": 15,
   "metadata": {},
   "outputs": [
    {
     "name": "stdout",
     "output_type": "stream",
     "text": [
      "[1 3 5 7 9]\n"
     ]
    }
   ],
   "source": [
    "#Create array using arange \n",
    "\n",
    "range_array = np.arange(1,10,2) #start , end+1, step\n",
    "print(range_array)"
   ]
  },
  {
   "cell_type": "markdown",
   "metadata": {},
   "source": [
    "6. linspace"
   ]
  },
  {
   "cell_type": "code",
   "execution_count": null,
   "metadata": {},
   "outputs": [
    {
     "name": "stdout",
     "output_type": "stream",
     "text": [
      "[0.   0.25 0.5  0.75 1.  ]\n"
     ]
    }
   ],
   "source": [
    "linspace_array = np.linspace(0,1,5) #start, end , step\n",
    "print(linspace_array)"
   ]
  },
  {
   "cell_type": "markdown",
   "metadata": {},
   "source": [
    "7. Array Reshaping"
   ]
  },
  {
   "cell_type": "code",
   "execution_count": null,
   "metadata": {},
   "outputs": [
    {
     "name": "stdout",
     "output_type": "stream",
     "text": [
      "[[1 2 3]\n",
      " [4 5 6]\n",
      " [7 8 9]]\n"
     ]
    }
   ],
   "source": [
    "list = [1,2,3,4,5,6,7,8,9]\n",
    "arr = np.array(list)\n",
    "dimention = (3,3)\n",
    "reshaped_arr = arr.reshape(dimention)\n",
    "\n",
    "print(reshaped_arr)"
   ]
  },
  {
   "cell_type": "markdown",
   "metadata": {},
   "source": [
    "8. Array Newaxis"
   ]
  },
  {
   "cell_type": "code",
   "execution_count": 22,
   "metadata": {},
   "outputs": [
    {
     "name": "stdout",
     "output_type": "stream",
     "text": [
      "[[1]\n",
      " [2]\n",
      " [3]\n",
      " [4]\n",
      " [5]\n",
      " [6]\n",
      " [7]\n",
      " [8]\n",
      " [9]]\n"
     ]
    }
   ],
   "source": [
    "list = [1,2,3,4,5,6,7,8,9]\n",
    "arr = np.array(list)\n",
    "expanded_arr = arr[:,np.newaxis]\n",
    "print(expanded_arr)"
   ]
  },
  {
   "cell_type": "markdown",
   "metadata": {},
   "source": [
    "### Basic Operations of Numpy Arrays\n",
    "---"
   ]
  },
  {
   "cell_type": "markdown",
   "metadata": {},
   "source": [
    "1. Elementwise operation of arrays"
   ]
  },
  {
   "cell_type": "code",
   "execution_count": 5,
   "metadata": {},
   "outputs": [
    {
     "name": "stdout",
     "output_type": "stream",
     "text": [
      "Sum:[ 2  6 12 20]\n",
      "Subs:[ 0  2  6 12]\n",
      "Mul:[ 1  8 27 64]\n",
      "Div:[1. 2. 3. 4.]\n"
     ]
    }
   ],
   "source": [
    "arr_1 = np.array([1,2,3,4])\n",
    "arr_2 = np.array([1,4,9,16])\n",
    "\n",
    "print(f\"Sum:{arr_1+arr_2}\")\n",
    "print(f\"Subs:{arr_2-arr_1}\")\n",
    "print(f\"Mul:{arr_2*arr_1}\")\n",
    "print(f\"Div:{arr_2/arr_1}\")"
   ]
  },
  {
   "cell_type": "markdown",
   "metadata": {},
   "source": [
    "2. Mathematical Operations of arrays:"
   ]
  },
  {
   "cell_type": "code",
   "execution_count": 9,
   "metadata": {},
   "outputs": [
    {
     "name": "stdout",
     "output_type": "stream",
     "text": [
      "Square root of all elements of arr_2:[1. 2. 3. 4.]\n",
      "Sum of all elements of arr_2:30\n",
      "Max of all elements of arr_1:4\n"
     ]
    }
   ],
   "source": [
    "arr_1 = np.array([1,2,3,4])\n",
    "arr_2 = np.array([1,4,9,16])\n",
    "\n",
    "print(f\"Square root of all elements of arr_2:{np.sqrt(arr_2)}\")\n",
    "print(f\"Sum of all elements of arr_2:{np.sum(arr_2)}\")\n",
    "print(f\"Max of all elements of arr_1:{np.max(arr_1)}\")"
   ]
  },
  {
   "cell_type": "markdown",
   "metadata": {},
   "source": [
    "### Numpy Array Indexing & Slicing\n",
    "---"
   ]
  },
  {
   "cell_type": "markdown",
   "metadata": {},
   "source": [
    "1. Indexing"
   ]
  },
  {
   "cell_type": "code",
   "execution_count": 11,
   "metadata": {},
   "outputs": [
    {
     "name": "stdout",
     "output_type": "stream",
     "text": [
      "3\n",
      "4\n"
     ]
    }
   ],
   "source": [
    "arr = np.array([1,2,3,4,5])\n",
    "\n",
    "print(arr[2]) \n",
    "print(arr[-2])"
   ]
  },
  {
   "cell_type": "markdown",
   "metadata": {},
   "source": [
    "2. Slicing"
   ]
  },
  {
   "cell_type": "code",
   "execution_count": 12,
   "metadata": {},
   "outputs": [
    {
     "name": "stdout",
     "output_type": "stream",
     "text": [
      "[2 3 4]\n"
     ]
    }
   ],
   "source": [
    "arr = np.array([1,2,3,4,5])\n",
    "\n",
    "print(arr[1:4])"
   ]
  },
  {
   "cell_type": "markdown",
   "metadata": {},
   "source": [
    "### Matrix Creation & Operations in Numpy\n",
    "---"
   ]
  },
  {
   "cell_type": "markdown",
   "metadata": {},
   "source": [
    "1. Matrix Creation"
   ]
  },
  {
   "cell_type": "code",
   "execution_count": 19,
   "metadata": {},
   "outputs": [
    {
     "name": "stdout",
     "output_type": "stream",
     "text": [
      "Matrix: \n",
      " [[1 2 3]\n",
      " [4 5 6]\n",
      " [7 8 9]]\n"
     ]
    }
   ],
   "source": [
    "matrix = np.array([[1,2,3],\n",
    "                   [4,5,6],\n",
    "                   [7,8,9]])\n",
    "\n",
    "print(f\"Matrix: \\n {matrix}\")"
   ]
  },
  {
   "cell_type": "markdown",
   "metadata": {},
   "source": [
    "2. Determinant of a Matrix"
   ]
  },
  {
   "cell_type": "code",
   "execution_count": 22,
   "metadata": {},
   "outputs": [
    {
     "name": "stdout",
     "output_type": "stream",
     "text": [
      "Determinant:\n",
      " -2.0\n"
     ]
    }
   ],
   "source": [
    "matrix = np.array([[2,3],\n",
    "                   [4,5]])\n",
    "\n",
    "# Calculate the determinant\n",
    "det = np.linalg.det(matrix)\n",
    "\n",
    "print(f\"Determinant:\\n {det}\")\n"
   ]
  },
  {
   "cell_type": "markdown",
   "metadata": {},
   "source": [
    "3. Transpose operation of Matrix"
   ]
  },
  {
   "cell_type": "code",
   "execution_count": 23,
   "metadata": {},
   "outputs": [
    {
     "name": "stdout",
     "output_type": "stream",
     "text": [
      "Transpose Matrix:\n",
      " [[1 4 7]\n",
      " [2 5 8]\n",
      " [3 6 9]]\n"
     ]
    }
   ],
   "source": [
    "matrix = np.array([[1,2,3],\n",
    "                   [4,5,6],\n",
    "                   [7,8,9]])\n",
    "\n",
    "transpose_matrix = matrix.T \n",
    "print(f\"Transpose Matrix:\\n {transpose_matrix}\")"
   ]
  },
  {
   "cell_type": "markdown",
   "metadata": {},
   "source": [
    "4. Inverse Matrix Calculation"
   ]
  },
  {
   "cell_type": "code",
   "execution_count": 25,
   "metadata": {},
   "outputs": [
    {
     "name": "stdout",
     "output_type": "stream",
     "text": [
      "Inverse Matrix:\n",
      "[[ 0.6 -0.7]\n",
      " [-0.2  0.4]]\n"
     ]
    }
   ],
   "source": [
    "\n",
    "matrix = np.array([[4, 7],\n",
    "                   [2, 6]])\n",
    "\n",
    "if np.linalg.det(matrix) != 0:\n",
    "    inverse_matrix = np.linalg.inv(matrix)\n",
    "    print(\"Inverse Matrix:\")\n",
    "    print(inverse_matrix)\n",
    "else:\n",
    "    print(\"The matrix is singular and cannot be inverted.\")\n",
    "\n"
   ]
  },
  {
   "cell_type": "markdown",
   "metadata": {},
   "source": [
    "### Broadcasting in Numpy\n",
    "---\n",
    "#### What is Broadcasting?\n",
    "- Broadcasting helps to perform operation between arrays of different shapes. Smaller arrays are automatically expanded to the large array.\n",
    "#### Rules of Broadcasting:\n",
    "- Dimentions are aligned from the right.\n",
    "- A dimention is compatible if:\n",
    "   1. It matches the other array's dimention.\n",
    "   2. One of the dimentions is 1"
   ]
  },
  {
   "cell_type": "code",
   "execution_count": 31,
   "metadata": {},
   "outputs": [
    {
     "name": "stdout",
     "output_type": "stream",
     "text": [
      "Summation:\n",
      " [[2 2 4]\n",
      " [5 5 7]]\n"
     ]
    }
   ],
   "source": [
    "matrix_1 = np.array([[1,2,3],\n",
    "                     [4,5,6]])\n",
    "\n",
    "matrix_2 = np.array([1,0,1])\n",
    "\n",
    "summation = matrix_1 + matrix_2\n",
    "\n",
    "print(f\"Summation:\\n {summation}\")"
   ]
  },
  {
   "cell_type": "markdown",
   "metadata": {},
   "source": [
    "### Aggregation Functions\n",
    "---\n",
    "- Aggregation functions compute summary statistics for arrays"
   ]
  },
  {
   "cell_type": "code",
   "execution_count": 39,
   "metadata": {},
   "outputs": [
    {
     "name": "stdout",
     "output_type": "stream",
     "text": [
      "Sum: 21\n",
      "Mean: 3.5\n",
      "Max: 6\n",
      "Min: 1\n",
      "Standard Daviation: 1.71\n",
      "Sum along columns: [5 7 9]\n",
      "Sum along rows: [ 6 15]\n"
     ]
    }
   ],
   "source": [
    "matrix = np.array([[1,2,3],\n",
    "                   [4,5,6]])\n",
    "\n",
    "print(f\"Sum: {np.sum(matrix)}\") #Total sum of all elements of matrix\n",
    "print(f\"Mean: {np.mean(matrix)}\")\n",
    "print(f\"Max: {np.max(matrix)}\")\n",
    "print(f\"Min: {np.min(matrix)}\")\n",
    "print(f\"Standard Daviation: {np.std(matrix):.2f}\")\n",
    "print(f\"Sum along columns: {np.sum(matrix,axis=0)}\")\n",
    "print(f\"Sum along rows: {np.sum(matrix,axis=1)}\")"
   ]
  },
  {
   "cell_type": "markdown",
   "metadata": {},
   "source": [
    "### Broadcasting & Filtering\n",
    "---\n",
    "#### What is Boolean Indexing?\n",
    "- You'll applied boolean arrays to filter elements from an array."
   ]
  },
  {
   "cell_type": "markdown",
   "metadata": {},
   "source": [
    "1. Filtering Arrays with boolean condition"
   ]
  },
  {
   "cell_type": "code",
   "execution_count": 45,
   "metadata": {},
   "outputs": [
    {
     "name": "stdout",
     "output_type": "stream",
     "text": [
      "Evens: [2 4 6]\n"
     ]
    }
   ],
   "source": [
    "arr = np.array([1,2,3,4,5,6])\n",
    "\n",
    "evens = arr[arr % 2 == 0]\n",
    "print(f\"Evens: {evens}\")"
   ]
  },
  {
   "cell_type": "markdown",
   "metadata": {},
   "source": [
    "2. Modifying Arrays with boolean condition"
   ]
  },
  {
   "cell_type": "code",
   "execution_count": 49,
   "metadata": {},
   "outputs": [
    {
     "name": "stdout",
     "output_type": "stream",
     "text": [
      "Modified Array: [1 2 3 0 0 0]\n"
     ]
    }
   ],
   "source": [
    "arr = np.array([1,2,3,4,5,6])\n",
    "\n",
    "arr[arr > 3] = 0\n",
    "print(f\"Modified Array: {arr}\")"
   ]
  },
  {
   "cell_type": "markdown",
   "metadata": {},
   "source": [
    "### Random Number Generation & Setting Seeds\n",
    "---"
   ]
  },
  {
   "cell_type": "markdown",
   "metadata": {},
   "source": [
    "1. Random Array Generation:"
   ]
  },
  {
   "cell_type": "code",
   "execution_count": 50,
   "metadata": {},
   "outputs": [
    {
     "name": "stdout",
     "output_type": "stream",
     "text": [
      "Random Matrix:\n",
      " [[0.13870713 0.62088144 0.41554576]\n",
      " [0.81084632 0.42972827 0.99144259]\n",
      " [0.94222085 0.76331568 0.86548507]]\n"
     ]
    }
   ],
   "source": [
    "random_matrix = np.random.rand(3,3)\n",
    "print(f\"Random Matrix:\\n {random_matrix}\")"
   ]
  },
  {
   "cell_type": "markdown",
   "metadata": {},
   "source": [
    "2. Random Integer Array with certain range"
   ]
  },
  {
   "cell_type": "code",
   "execution_count": 52,
   "metadata": {},
   "outputs": [
    {
     "name": "stdout",
     "output_type": "stream",
     "text": [
      "Random Integer: \n",
      " [[1 6 7]\n",
      " [2 6 0]]\n"
     ]
    }
   ],
   "source": [
    "random_integer = np.random.randint(0,10,size=(2,3))\n",
    "print(f\"Random Integer: \\n {random_integer}\")"
   ]
  },
  {
   "cell_type": "markdown",
   "metadata": {},
   "source": [
    "3. Setting Random Seeds (Always keep the random values same)"
   ]
  },
  {
   "cell_type": "code",
   "execution_count": 60,
   "metadata": {},
   "outputs": [
    {
     "name": "stdout",
     "output_type": "stream",
     "text": [
      "Random Integer: \n",
      " [[5 8 9]\n",
      " [5 0 0]]\n"
     ]
    }
   ],
   "source": [
    "np.random.seed(1)\n",
    "\n",
    "random_integer = np.random.randint(0,10,size=(2,3))\n",
    "print(f\"Random Integer: \\n {random_integer}\")"
   ]
  }
 ],
 "metadata": {
  "kernelspec": {
   "display_name": "ds_libraries",
   "language": "python",
   "name": "python3"
  },
  "language_info": {
   "codemirror_mode": {
    "name": "ipython",
    "version": 3
   },
   "file_extension": ".py",
   "mimetype": "text/x-python",
   "name": "python",
   "nbconvert_exporter": "python",
   "pygments_lexer": "ipython3",
   "version": "3.13.1"
  }
 },
 "nbformat": 4,
 "nbformat_minor": 2
}
