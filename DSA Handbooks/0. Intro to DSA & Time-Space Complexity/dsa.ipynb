{
 "cells": [
  {
   "cell_type": "markdown",
   "id": "140895b5",
   "metadata": {},
   "source": [
    "# Introduction to Data Structure & Algorithm in Python\n",
    "### *Ashraful Islam Mahi*\n",
    "*Full Stack Python Developer | ML & Robotics Enthusiast | Founder & CEO, PytronLAB*\n",
    "\n",
    "![DP](dp.png)"
   ]
  },
  {
   "cell_type": "markdown",
   "id": "ee984f3c",
   "metadata": {},
   "source": [
    "### What is ***Data Structure*** ?\n",
    "- Data Structures are different ways of organizing data on your computer, that can be used effectively. \n",
    "\n",
    "![line](line.png)\n",
    "\n",
    "Look at these pictures, suppose all the people want to buy ticket for travelling. But all the people are standing randomly before the ticket counter in the left image. on the other hand all the people are organized in a line in he right image. Now tell me, in which case the ticket selling process will be more efficient? \n",
    "\n",
    "Ofcourse it will be efficient when the people are in a orderly fashion shown in the right image. In the same way it is mandatory to follow some data structures while doing operationons the data."
   ]
  },
  {
   "cell_type": "markdown",
   "id": "8fe26499",
   "metadata": {},
   "source": [
    "### What is ***Algorithm*** ?\n",
    "- It can be defined as **\"Set of steps to accomplish a task\"**.\n",
    "Here is a real life example:\n",
    "\n",
    "![cake](cake_recepie.png)"
   ]
  },
  {
   "cell_type": "markdown",
   "id": "14ee6a13",
   "metadata": {},
   "source": [
    "### Why DSA is Important?\n",
    "Look at this picture: \n",
    "\n",
    "![libray](library.png)\n",
    "\n",
    "\n",
    "Would you like to find your desired book from this library? Hello no!! you won't, Because the books are not properly organized. Similarly it is so much important for us to implement proper *Data Structure & Alhorithm* for memory management and prevent data leakage.\n",
    "\n"
   ]
  },
  {
   "cell_type": "markdown",
   "id": "98aa2a12",
   "metadata": {},
   "source": [
    "### Real life Applications of DS:\n",
    "- Finding shortest path on a map. \n",
    "- Used to arrange solar panels on the International Space Station.\n",
    "- Heavily used in Data processing."
   ]
  },
  {
   "cell_type": "markdown",
   "id": "67d340c7",
   "metadata": {},
   "source": [
    "### Types of Data Structures & Algorithms:\n",
    "\n",
    "![types](type.png)\n"
   ]
  },
  {
   "cell_type": "markdown",
   "id": "73c8b18c",
   "metadata": {},
   "source": [
    "### Types of Algorithms:\n",
    "1. Simple recursive algorithms:\n",
    "   - a way of solving a problem by having a function calling itself.\n",
    "\n",
    "2. Divide and conquer algorithms:\n",
    "   - Divide the problem into smaller subproblems of the same type, and solve these subproblems recursively.\n",
    "   - Combine the solutions to the subproblems into a solution to the original problem.\n",
    "\n",
    "3. Dynamic programming algorithms:\n",
    "   - They work based on memoization.\n",
    "   - To find the best solution.\n",
    "\n",
    "4. Greedy algorithms:\n",
    "   - We take the best we can without worrying about future consequences.\n",
    "   - We hope that by choosing a local optimum solution at each step, we will end up at a global optimum solution.\n",
    "\n",
    "5. Brute force algorithms:\n",
    "   - It simply tries all possibilities until a satisfactory solution is found.\n",
    "   \n",
    "6. Randomized algorithms:\n",
    "   - Use a random number at least once during the computation to make a decision."
   ]
  },
  {
   "cell_type": "markdown",
   "id": "ebf92f1a",
   "metadata": {},
   "source": [
    "### Time & Space Complexity\n",
    "\n",
    "#### What is *Time* Complexity?\n",
    "- A way of showing how the run time of a funtion changes as the size of input changes.\n",
    "- It doesn't count how much time an algorithm takes to run , rather it counts the number of operation within a code.\n",
    "- The developers preper to keep the time complexity as much constant as possible.\n",
    "\n",
    "#### What is *Space* Complexity?\n",
    "- Space complexity measures how much extra memory (RAM/storage) your algorithm uses as the input size grows.\n",
    "- It helps optimize memory usage and avoid crashing due to memory overflow.\n",
    "\n",
    "#### Real-Life Analogy:\n",
    "- Time complexity = How long it takes to read a book 📖\n",
    "- Space complexity = How many pages the book takes 📄\n",
    "\n"
   ]
  },
  {
   "cell_type": "markdown",
   "id": "d106e186",
   "metadata": {},
   "source": [
    "### Big O:\n",
    "\n",
    "#### What is *Big O* notation?\n",
    "- Big O is the language and metric we use to describe the efficiency of algorithms.\n",
    "- Measures *Time* & *Space* Complexity.\n",
    "- It is a way of mathematically figuring out which code is better among many other codes of same purpose.\n",
    "- Predict performance for large inputs.\n",
    "\n",
    "#### Common *Big O* Notations:\n",
    "![Table](table.png)\n",
    "\n"
   ]
  },
  {
   "cell_type": "markdown",
   "id": "8ca12aad",
   "metadata": {},
   "source": [
    "1. ***O(1) – Constant Time:*** Always takes same time."
   ]
  },
  {
   "cell_type": "code",
   "execution_count": null,
   "id": "a6dbdda3",
   "metadata": {},
   "outputs": [],
   "source": [
    "def get_first_item(arr):\n",
    "    return arr[0]  "
   ]
  },
  {
   "cell_type": "markdown",
   "id": "17213296",
   "metadata": {},
   "source": [
    "2. ***O(n) - Linear Time:*** Processes each element once.\n"
   ]
  },
  {
   "cell_type": "code",
   "execution_count": null,
   "id": "2459e7a5",
   "metadata": {},
   "outputs": [],
   "source": [
    "def print_items(arr):\n",
    "    for item in arr:\n",
    "        print(item) "
   ]
  },
  {
   "cell_type": "markdown",
   "id": "eef7ddcd",
   "metadata": {},
   "source": [
    "3. ***O(log n) – Logarithmic Time:*** Reduces the problem size each time — like binary search."
   ]
  },
  {
   "cell_type": "code",
   "execution_count": null,
   "id": "d006e9e5",
   "metadata": {},
   "outputs": [],
   "source": [
    "def binary_search(arr, target):\n",
    "    low = 0\n",
    "    high = len(arr) - 1\n",
    "    \n",
    "    while low <= high:\n",
    "        mid = (low + high) // 2 \n",
    "        if arr[mid] == target:\n",
    "            return True\n",
    "        elif arr[mid] < target:\n",
    "            low = mid + 1\n",
    "        else:\n",
    "            high = mid - 1\n",
    "    return False\n"
   ]
  },
  {
   "cell_type": "markdown",
   "id": "ce9f4ef1",
   "metadata": {},
   "source": [
    "4. ***O(n^2) – Quadratic Time:***  Nested loops over input — example: Bubble Sort."
   ]
  },
  {
   "cell_type": "code",
   "execution_count": null,
   "id": "9e51ae02",
   "metadata": {},
   "outputs": [],
   "source": [
    "def bubble_sort(arr):\n",
    "    n = len(arr)\n",
    "    for i in range(n):\n",
    "        for j in range(n - 1):\n",
    "            if arr[j] > arr[j + 1]:\n",
    "                arr[j], arr[j + 1] = arr[j + 1], arr[j]\n"
   ]
  },
  {
   "cell_type": "markdown",
   "id": "0d269515",
   "metadata": {},
   "source": [
    "5. ***O(2^n) – Exponential Time:*** Algorithms that double the problem size at each step — e.g., recursive Fibonacci."
   ]
  },
  {
   "cell_type": "code",
   "execution_count": null,
   "id": "e4c72de0",
   "metadata": {},
   "outputs": [],
   "source": [
    "def fib(n):\n",
    "    if n <= 1:\n",
    "        return n\n",
    "    return fib(n - 1) + fib(n - 2)"
   ]
  },
  {
   "cell_type": "markdown",
   "id": "877f1b9a",
   "metadata": {},
   "source": [
    "### Big-O Complexity Chart:\n",
    "\n",
    "This chart indicates the performance of the Big-O notations. Here it is: \n",
    "\n",
    "![chart](chart.png)"
   ]
  }
 ],
 "metadata": {
  "language_info": {
   "name": "python"
  }
 },
 "nbformat": 4,
 "nbformat_minor": 5
}
