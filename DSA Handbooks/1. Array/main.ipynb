{
 "cells": [
  {
   "cell_type": "markdown",
   "id": "94eb6436",
   "metadata": {},
   "source": [
    "### Array\n",
    "\n",
    "- An array is a type of data structure that stores a collection of elements in a contiguous block of memory.\n",
    "- Each elements of an array takes 4 bytes of memory.\n",
    "- Every elements of an array has distinct index number through which it can be accessible \n",
    "- The index number starts from *Zero(0)*\n",
    "- Address Calculation of an element:\n",
    "   - **Address = Base + Index * Size of each element**"
   ]
  },
  {
   "cell_type": "markdown",
   "id": "738cf5ac",
   "metadata": {},
   "source": [
    "**1. Traversal of the Array:**"
   ]
  },
  {
   "cell_type": "code",
   "execution_count": 44,
   "id": "0d6d1364",
   "metadata": {},
   "outputs": [
    {
     "name": "stdout",
     "output_type": "stream",
     "text": [
      "Index-0:1\n",
      "Index-1:0\n",
      "Index-2:6\n",
      "Index-3:6\n",
      "Index-4:3\n",
      "Index-5:7\n",
      "Index-6:1\n",
      "Index-7:-2\n"
     ]
    }
   ],
   "source": [
    "#defining an function for traversal operations\n",
    "def traverse_array(array):\n",
    "  \n",
    "  # length calculation of array\n",
    "  n = len(array)\n",
    "  \n",
    "  # travarsal using loop\n",
    "  for index in range(n):\n",
    "    print(f\"Index-{index}:{array[index]}\")\n",
    "    \n",
    "\n",
    "def main():\n",
    "  # defining an array and calling the traversal function\n",
    "  array = [1,0,6,6,3,7,1,-2]\n",
    "  traverse_array(array)\n",
    "\n",
    "if __name__ == \"__main__\":\n",
    "  main()"
   ]
  },
  {
   "cell_type": "markdown",
   "id": "1c55aacf",
   "metadata": {},
   "source": [
    "**2. Deletion Operaion of an Element from an Array:**"
   ]
  },
  {
   "cell_type": "markdown",
   "id": "bf89596b",
   "metadata": {},
   "source": [
    "Method - 1: The detailed method"
   ]
  },
  {
   "cell_type": "code",
   "execution_count": 45,
   "id": "17878513",
   "metadata": {},
   "outputs": [
    {
     "name": "stdout",
     "output_type": "stream",
     "text": [
      "Array before deletion: [1, 0, 6, 6, 3, 7, 1, -2]\n",
      "Array after deletion: [1, 0, 6, 3, 7, 1, -2]\n"
     ]
    }
   ],
   "source": [
    "def delete_array_element(array, index):\n",
    "    n = len(array)\n",
    "\n",
    "    try:\n",
    "        if (index < 0) or (index >= n):\n",
    "            raise ValueError(\"Index is out of range.\")\n",
    "    except ValueError as e:\n",
    "        print(f\"Error: {e}\")\n",
    "        \n",
    "    else:\n",
    "        \n",
    "        start = index\n",
    "        end = n - 2 \n",
    "        # Shift elements to the left manually\n",
    "        for i in range(start, end + 1): #---------------------> Time Complexity: O(n)\n",
    "            array[i] = array[i + 1]\n",
    "            \n",
    "        array.pop()  # Remove the last duplicated element\n",
    "        return array\n",
    "\n",
    "def main():\n",
    "    array = [1, 0, 6, 6, 3, 7, 1, -2]\n",
    "    index = 3\n",
    "    print(f\"Array before deletion: {array}\")\n",
    "    \n",
    "    new_array = delete_array_element(array, index)\n",
    "    print(f\"Array after deletion: {new_array}\")\n",
    "\n",
    "if __name__ == \"__main__\":\n",
    "    main()\n"
   ]
  },
  {
   "cell_type": "markdown",
   "id": "140cdfdc",
   "metadata": {},
   "source": [
    "Method-2: Using **pop()** function of **list**"
   ]
  },
  {
   "cell_type": "code",
   "execution_count": 3,
   "id": "4976b9b3",
   "metadata": {},
   "outputs": [
    {
     "name": "stdout",
     "output_type": "stream",
     "text": [
      "Array before deletion: [1, 0, 6, 6, 3, 7, 1, -2]\n",
      "Array after deletion: [1, 0, 6, 6, 7, 1, -2]\n"
     ]
    }
   ],
   "source": [
    "array = [1, 0, 6, 6, 3, 7, 1, -2]\n",
    "index = 3\n",
    "print(f\"Array before deletion: {array}\")\n",
    "\n",
    "new_array = array.remove(index)  #---------------------> Time Complexity: O(n)\n",
    "print(f\"Array after deletion: {array}\")\n"
   ]
  },
  {
   "cell_type": "markdown",
   "id": "7cc57573",
   "metadata": {},
   "source": [
    "**3. Inserting Element into an Array:**"
   ]
  },
  {
   "cell_type": "markdown",
   "id": "7a8793fb",
   "metadata": {},
   "source": [
    "Method - 1: The detailed method"
   ]
  },
  {
   "cell_type": "code",
   "execution_count": 7,
   "id": "7a8d9787",
   "metadata": {},
   "outputs": [
    {
     "name": "stdout",
     "output_type": "stream",
     "text": [
      "Array before deletion: [1, 0, 6, 6, 3, 7, 1, -2]\n",
      "Array after deletion: [1, 0, 6, 54, 6, 6, 6, 6, 6]\n"
     ]
    }
   ],
   "source": [
    "def insert_array_element(array, index,value):\n",
    "    n = len(array)\n",
    "\n",
    "    try:\n",
    "        if (index < 0) or (index >= n):\n",
    "            raise ValueError(\"Index is out of range.\")\n",
    "    except ValueError as e:\n",
    "        print(f\"Error: {e}\")\n",
    "        \n",
    "    else:\n",
    "        \n",
    "        # Extend the array to have room for the new element\n",
    "        array.append(0)\n",
    "        \n",
    "        \n",
    "        start = index\n",
    "        end = n  \n",
    "        # Shift elements to the right manually\n",
    "        for i in range(start, end ): #---------------------> Time Complexity: O(n)\n",
    "            array[i + 1] = array[i] \n",
    "            \n",
    "        \n",
    "        #Value Insertion\n",
    "        array[index] = value\n",
    "        return array\n",
    "\n",
    "def main():\n",
    "    array = [1, 0, 6, 6, 3, 7, 1, -2]\n",
    "    index = 3\n",
    "    value = 54\n",
    "    print(f\"Array before deletion: {array}\")\n",
    "    \n",
    "    new_array = insert_array_element(array, index, value)\n",
    "    print(f\"Array after deletion: {new_array}\")\n",
    "\n",
    "if __name__ == \"__main__\":\n",
    "    main()\n"
   ]
  },
  {
   "cell_type": "code",
   "execution_count": 5,
   "id": "7f741ed3",
   "metadata": {},
   "outputs": [
    {
     "name": "stdout",
     "output_type": "stream",
     "text": [
      "Array before insertion: [1, 0, 6, 6, 3, 7, 1, -2]\n",
      "Array after insertion: [1, 0, 6, 54, 6, 3, 7, 1, -2]\n"
     ]
    }
   ],
   "source": [
    "def insert_array_element(array, index, value):\n",
    "    n = len(array)\n",
    "    \n",
    "    # Check if index is out of bounds (allowing index == n for insertion at the end)\n",
    "    if index < 0 or index > n:\n",
    "        print(\"Error: Index is out of range.\")\n",
    "        return array\n",
    "\n",
    "    # Extend the array to have room for the new element\n",
    "    array.append(0)\n",
    "\n",
    "    # Shift elements to the right, starting from the end\n",
    "    for i in range(n, index, -1):\n",
    "        array[i] = array[i - 1]\n",
    "\n",
    "    # Insert the new value at the given index\n",
    "    array[index] = value\n",
    "    return array\n",
    "\n",
    "def main():\n",
    "    array = [1, 0, 6, 6, 3, 7, 1, -2]\n",
    "    index = 3\n",
    "    value = 54\n",
    "    print(f\"Array before insertion: {array}\")\n",
    "\n",
    "    new_array = insert_array_element(array, index, value)\n",
    "    print(f\"Array after insertion: {new_array}\")\n",
    "\n",
    "if __name__ == \"__main__\":\n",
    "    main()\n"
   ]
  },
  {
   "cell_type": "code",
   "execution_count": 9,
   "id": "f8db1bc7",
   "metadata": {},
   "outputs": [
    {
     "name": "stdout",
     "output_type": "stream",
     "text": [
      "Array before insertion: [1, 0, 6, 6, 3, 7, 1, -2]\n",
      "Array after insertion: [1, 0, 6, 54, 6, 3, 7, 1, -2]\n"
     ]
    }
   ],
   "source": [
    "def insert_array_element(array, index, value):\n",
    "    n = len(array)\n",
    "    try:\n",
    "        if index < 0 or index >= n:\n",
    "            raise ValueError(\"Index is out of range.\")\n",
    "    except ValueError as e:\n",
    "        print(f\"Error: {e}\")\n",
    "    else:\n",
    "        # Starting from the insertion index, \"push\" the values to the right using a temporary variable.\n",
    "        temp = value\n",
    "        for i in range(index, n):\n",
    "            # Swap the temp with the current element.\n",
    "            temp, array[i] = array[i], temp\n",
    "        # Append the final displaced value to extend the array.\n",
    "        array.append(temp)\n",
    "        return array\n",
    "\n",
    "def main():\n",
    "    array = [1, 0, 6, 6, 3, 7, 1, -2]\n",
    "    index = 3\n",
    "    value = 54\n",
    "    print(f\"Array before insertion: {array}\")\n",
    "    \n",
    "    new_array = insert_array_element(array, index, value)\n",
    "    print(f\"Array after insertion: {new_array}\")\n",
    "\n",
    "if __name__ == \"__main__\":\n",
    "    main()\n"
   ]
  }
 ],
 "metadata": {
  "kernelspec": {
   "display_name": "base",
   "language": "python",
   "name": "python3"
  },
  "language_info": {
   "codemirror_mode": {
    "name": "ipython",
    "version": 3
   },
   "file_extension": ".py",
   "mimetype": "text/x-python",
   "name": "python",
   "nbconvert_exporter": "python",
   "pygments_lexer": "ipython3",
   "version": "3.12.7"
  }
 },
 "nbformat": 4,
 "nbformat_minor": 5
}
